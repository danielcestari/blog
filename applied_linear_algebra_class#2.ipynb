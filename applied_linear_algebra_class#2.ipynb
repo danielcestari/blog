{
 "cells": [
  {
   "cell_type": "markdown",
   "metadata": {},
   "source": [
    "# Aula #2\n",
    "\n",
    "Recapitulando a aula passada...\n",
    "\n",
    "#### Decomposição LU \n",
    "\n",
    "$\\forall A_{m \\times n}, A=LU$, $\\exists ! L \\text{ triangular inferior com } diag(L)=1$, $\\exists ! U \\text{ triangular superior }$, contanto que $det(A_i) \\neq 0, \\forall i=1..m-1$, sendo $A_i$ as submatrizes principais de $A$.\n",
    "\n",
    "Atenção, aqui o símbolo $!$ significa único(a), então $\\exists ! L$ significa que existe uma matriz L única.\n",
    "\n",
    "É possível perceber um problema com a maneira que o teorema da decomposição LU está definido, pois se o elemento $a_{11}=0$, $det(A_1)=0$ e todo o processo da decomposição nem começa. Mas se fizermos uma troca de linhas pode ser que consigamos encontrar a decomposição LU de tal matriz.\n",
    "\n",
    "Exemplo:\n",
    "$A = \\begin{bmatrix}\n",
    "    0 & 1 & 2  \\\\\n",
    "    1 & -2 & 2 \\\\\n",
    "    3 & -1 & 1 \n",
    "\\end{bmatrix}$ tem $det(A_1)=0$, $det(A_2) \\neq 0$ e $det(A)=det(A_3) \\neq 0$, logo não podemos aplicar o teorema nessa matriz. Mas a matriz:\n",
    "\n",
    "$A' = \\begin{bmatrix}\n",
    "    1 & -2 & 2 \\\\\n",
    "    0 & 1 & 2  \\\\\n",
    "    3 & -1 & 1 \n",
    "\\end{bmatrix}$, obtida trocando a primeira e segunda linhas, tem $det(A_1), det(A_2), det(A_3) \\neq 0$ logo podemos aplicar o teorema nessa nova matriz.\n",
    "\n",
    "A matriz $A'$ pôde ser obtida através da multiplicação de uma matriz de permutação $P$ na matriz original $A$. $A'=PA$, com $P = \\begin{bmatrix}\n",
    "    0 & 1 & 0  \\\\\n",
    "    1 & 0 & 0 \\\\\n",
    "    0 & 0 & 1 \n",
    "\\end{bmatrix}$. Logo, a pergunta que fazemos, é sempre possível encontrar a decomposição LU da uma matriz $A'$ obtida pela permutação de outra que não respeita todas as condições do teorema? ($LU=A'=PA?$)\n",
    "\n",
    "Veremos que sim, e definiremos um novo teorema para a decomposição LU"
   ]
  },
  {
   "cell_type": "markdown",
   "metadata": {},
   "source": [
    "### Decomposição LU Generalizada\n",
    "\n",
    "**Teorema:** Toda matriz tem uma decomposição LU se for permitido fazermos troca de linhas.\n",
    "\n",
    "$PA=LU$, onde $P$ é uma matriz de permutação"
   ]
  },
  {
   "cell_type": "markdown",
   "metadata": {},
   "source": []
  },
  {
   "cell_type": "markdown",
   "metadata": {},
   "source": []
  },
  {
   "cell_type": "markdown",
   "metadata": {},
   "source": []
  },
  {
   "cell_type": "markdown",
   "metadata": {},
   "source": []
  },
  {
   "cell_type": "markdown",
   "metadata": {},
   "source": []
  },
  {
   "cell_type": "markdown",
   "metadata": {},
   "source": [
    "\n"
   ]
  }
 ],
 "metadata": {
  "kernelspec": {
   "display_name": "Python 3",
   "language": "python",
   "name": "python3"
  },
  "language_info": {
   "codemirror_mode": {
    "name": "ipython",
    "version": 3
   },
   "file_extension": ".py",
   "mimetype": "text/x-python",
   "name": "python",
   "nbconvert_exporter": "python",
   "pygments_lexer": "ipython3",
   "version": "3.6.5"
  }
 },
 "nbformat": 4,
 "nbformat_minor": 2
}
