{
 "cells": [
  {
   "cell_type": "markdown",
   "metadata": {},
   "source": [
    "# Aula #2\n",
    "\n",
    "Recapitulando a aula passada...\n",
    "\n",
    "#### Decomposição LU \n",
    "\n",
    "$\\forall A_{m \\times n}, A=LU$, $\\exists ! L \\text{ triangular inferior com } diag(L)=1$, $\\exists ! U \\text{ triangular superior }$, contanto que $det(A_i) \\neq 0, \\forall i=1..m-1$, sendo $A_i$ as submatrizes principais de $A$.\n",
    "\n",
    "Atenção, aqui o símbolo $!$ significa único(a), então $\\exists ! L$ significa que existe uma matriz L única.\n",
    "\n",
    "É possível perceber um problema com a maneira que o teorema da decomposição LU está definido, pois se o elemento $a_{11}=0$, $det(A_1)=0$ e todo o processo da decomposição nem começa. Mas se fizermos uma troca de linhas pode ser que consigamos encontrar a decomposição LU de tal matriz.\n",
    "\n",
    "Exemplo:\n",
    "$A = \\begin{bmatrix}\n",
    "    0 & 1 & 2  \\\\\n",
    "    1 & -2 & 2 \\\\\n",
    "    3 & -1 & 1 \n",
    "\\end{bmatrix}$ tem $det(A_1)=0$, $det(A_2) \\neq 0$ e $det(A)=det(A_3) \\neq 0$, logo não podemos aplicar o teorema nessa matriz. Mas a matriz:\n",
    "\n",
    "$A' = \\begin{bmatrix}\n",
    "    1 & -2 & 2 \\\\\n",
    "    0 & 1 & 2  \\\\\n",
    "    3 & -1 & 1 \n",
    "\\end{bmatrix}$, obtida trocando a primeira e segunda linhas, tem $det(A_1), det(A_2), det(A_3) \\neq 0$ logo podemos aplicar o teorema nessa nova matriz.\n",
    "\n",
    "A matriz $A'$ pôde ser obtida através da multiplicação de uma matriz de permutação $P$ na matriz original $A$. $A'=PA$, com $P = \\begin{bmatrix}\n",
    "    0 & 1 & 0  \\\\\n",
    "    1 & 0 & 0 \\\\\n",
    "    0 & 0 & 1 \n",
    "\\end{bmatrix}$. Logo, a pergunta que fazemos, é sempre possível encontrar a decomposição LU da uma matriz $A'$ obtida pela permutação de outra que não respeita todas as condições do teorema? ($LU=A'=PA?$)\n",
    "\n",
    "Veremos que sim, e definiremos um novo teorema para a decomposição LU"
   ]
  },
  {
   "cell_type": "markdown",
   "metadata": {},
   "source": [
    "### Decomposição LU Generalizada\n",
    "\n",
    "**Teorema:** Toda matriz tem uma decomposição LU se for permitido fazermos troca de linhas.\n",
    "\n",
    "$PA=LU$, onde $P$ é uma matriz de permutação, ou seja, primeiro transformamos $A$ em $A'$, que agora satisfaz as hipóteses do teorema, e então fazemos a decomposição LU.\n",
    "\n",
    "A matriz $P$ não é computada de antemão, mas conforme o processo da decomposição progride, pois sua determinação de antemão seria muito custosa, teríamos que verificar que todos as submatrizes principais têm determinante não nulo. Ao invés disso, conforme o processo da decomposição vai sendo iterado, se em algum momento $k$ o determinando da submatriz for nulo é feita a troca das linhas $k$ e $k+1$, e continua-se o processo. Se a troca das linhas $k$ pela $k+1$ ainda produzir um determinante nulo, é feita a troca das linhas $k$ e $k+2$, e assim por diante até o determinante não se mais nulo. Caso todas as trocas de linhas resultarem em determiante nulo de uma submatriz principal, significa que a matriz não satisfaz as hipóteses da decomposição LU, e não há uma permutação que a transforme numa matriz que satisfaça.\n",
    "\n",
    "Lembre-se que eu falei que a prova por indução também dá um algoritmo para a decomposição? Então, é durante esse algoritmo conforme aumenta-se a matriz sendo decomposta, primeiro uma linha, depois duas, e assim por diante, que é é feita essa troca de linhas se necessário. Pelo menos conceitualmente como prova dessa decomposição generalizada. Eu digo conceitualmente pois esse pode não ser a forma mais eficience de implementar a decomposição. Na verdade veremos que essa decomposição é implementada pela execução do método de eliminação de Gauss.\n",
    "\n"
   ]
  },
  {
   "cell_type": "markdown",
   "metadata": {},
   "source": [
    "---\n",
    "Essa ideia dos determinantes de todas as submatrizes principais serem não nulo nos leva ao conceito de matriz definida positiva (do inglês *positive definite* PD).\n",
    "\n",
    "Uma matriz $A$ é dita ser definida positiva se $A$ for simétrica e $det(A_k) > 0, \\forall k=1..n$. \n",
    "\n",
    "Outra definição é: $A$ é definida positiva se $(Ax,x) > 0, \\forall x \\neq 0$, $(Ax,x)= \\sum_{i=1}^n \\sum_{j=1}^n a_{ij} x_i x_j$, $(Ax,x)$ é a notação para o produto interno de $Ax$ por x"
   ]
  },
  {
   "cell_type": "markdown",
   "metadata": {},
   "source": [
    "---\n",
    "O próximo teorema a ser apresentado é o da decomposição Cholesky\n",
    "\n",
    "**Teorema:** Uma matirz simétrica definida positiva (do inglês symmetric positive definite, SPD) pode ser escrita como $A=G^tG$, send $G$ triangular superior.\n",
    "\n",
    "A vantagem dessa decomposição em relação à LU é que o custo computacional da decmposição Cholesky (~$1/3 n^3$) é da ordem de metada do custo computacional da LU (~$2/3n^3$), pois na Cholesky só é preciso computar uma matriz, $G$, enquanto que na decomposição LU é necessário o cálculo de duas matrizes.\n",
    "\n",
    "Só de escrevermos a matriz $A$ como a multiplicação de $G^t$ por $G$ já é possível encontrar os coeficientes de $G$.\n",
    "\n",
    "$$\\left[\n",
    "    \\begin{array}{cccc|c}\n",
    "    a_{11} & a_{12} & \\dots & a_{1n} \\\\\n",
    "    a_{21} & a_{22} & \\dots & a_{2n} \\\\\n",
    "    \\vdots & \\vdots & \\ddots & \\vdots \\\\\n",
    "    a_{n1} & a_{n2} & \\dots & a_{nn}\n",
    "    \\end{array}\n",
    "    \\right] = \\left[\n",
    "    \\begin{array}{cccc|c}\n",
    "    g_{11} & 0 & \\dots & 0 \\\\\n",
    "    g_{21} & g_{22} & \\dots & 0 \\\\\n",
    "    \\vdots & \\vdots & \\ddots & \\vdots \\\\\n",
    "    g_{n1} & g_{n2} & \\dots & g_{nn}\n",
    "    \\end{array}\n",
    "    \\right] \\left[\n",
    "    \\begin{array}{cccc|c}\n",
    "    g_{11} & g_{12} & \\dots & g_{1n} \\\\\n",
    "    0 & g_{22} & \\dots & g_{2n} \\\\\n",
    "    \\vdots & \\vdots & \\ddots & \\vdots \\\\\n",
    "    0 & 0 & \\dots & g_{nn}\n",
    "    \\end{array}\n",
    "    \\right]\n",
    "$$\n",
    "\n",
    "Multiplicando a primeira linha de $G^t$ pela primeira coluna de $G$, temos:\n",
    "\n",
    "$\n",
    "g_{11}.g_{11} = a_{11} \\implies g_{11} = \\sqrt{a_{11}}\n",
    "$, essa expressão é válida pois $A$ é PD $\\implies det(A_k) >0 \\implies det(A_1) > 0 \\implies a_{11} > 0$, logo a raíz de $a_{11}$ é bem definida.\n",
    "\n",
    "$$g_{11}.g_{1j}=a_{1j} \\implies g_{1j}=\\frac{a_{1j}}{g_{11}}, \\text{ já temos uma expressão para os coeficientes da primeira linha de }G.$$\n",
    "\n",
    "Para a próxima linha precisamos encontrar $g_{22}$. Então fazemos a multiplicação da segunda linha de $G^t$ pela segunda coluna de $G$. \n",
    "\n",
    "$$\n",
    "g_{12}^2 + g_{22}^2 = a_{22}, \\\\\n",
    "g_{22}^2 = a_{22} - g_{12}^2, \\text{ e como $A$ é PD, } g_{22} > 0, \\text{ pois } \\\\\n",
    "g_{22}^2 = a_{22} - \\Big(\\frac{a_{12}}{g_{11}}\\Big)^2 = \\frac{a_{22}g_{11}^2 - a_{12}^2}{g_{11}^2} = \\frac{a_{22}a_{11}-a_{12}^2}{a_{11}} > 0, \\text{ pois $A$ PD } \\implies det(A_2) > 0 \\text{ e } det(A_2) = a_{22}a_{11}-a_{12}^2, a_{12} = a_{21} \\text{ pois $A$ também é simétrica, e } det(A_1) = a_{11} > 0. \\\\\n",
    "\\text{Logo } g_{22} = \\sqrt{a_{22} - g_{12}^2} \\text{ está bem definida.}\n",
    "$$\n",
    "\n",
    "Seguindo multiplicando a segunda linha de $G^t$ pelas demais colunas de $G$ as única icógnitas serão os coeficientes $g_{2j}$, pois a primeira linha já foi calculada, e para cada multiplicação da segunda linha por outra coluna, haverá apenas uma icógnita.\n",
    "\n",
    "Esse processo segue até todos os coeficientes não nulos de $G$ sejam computados."
   ]
  },
  {
   "cell_type": "markdown",
   "metadata": {},
   "source": []
  },
  {
   "cell_type": "markdown",
   "metadata": {},
   "source": []
  },
  {
   "cell_type": "markdown",
   "metadata": {},
   "source": []
  },
  {
   "cell_type": "markdown",
   "metadata": {},
   "source": [
    "\n"
   ]
  }
 ],
 "metadata": {
  "kernelspec": {
   "display_name": "Python 3",
   "language": "python",
   "name": "python3"
  },
  "language_info": {
   "codemirror_mode": {
    "name": "ipython",
    "version": 3
   },
   "file_extension": ".py",
   "mimetype": "text/x-python",
   "name": "python",
   "nbconvert_exporter": "python",
   "pygments_lexer": "ipython3",
   "version": "3.6.5"
  }
 },
 "nbformat": 4,
 "nbformat_minor": 2
}
