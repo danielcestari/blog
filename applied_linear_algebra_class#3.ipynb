{
 "cells": [
  {
   "cell_type": "markdown",
   "metadata": {},
   "source": [
    "# Aula 03\n",
    "\n",
    "Recapitulando a forma canonica de Jordan\n",
    "\n",
    "### Forma canônica de Jordan, ou forma normal de Jordan\n",
    "\n",
    "Dada uma matriz $A$, por transformação de similaridade encontramos a seguinte matriz:\n",
    "\n",
    "$$\n",
    "S^{-1} A S = \n",
    "\\begin{bmatrix}\n",
    "J_{n1}(\\lambda_1) & 0 & \\dots & 0 \\\\\n",
    "0 & J_{n2}(\\lambda_2) & \\dots & 0 \\\\\n",
    "\\vdots & \\vdots & \\ddots & \\vdots \\\\\n",
    "0 & 0 & \\dots & J_{nk}(\\lambda_k)\n",
    "\\end{bmatrix}\n",
    "\\;\n",
    "J_i(\\lambda_i) = \n",
    "\\begin{bmatrix}\n",
    "\\lambda_i & 1 & 0 & \\dots & 0 \\\\\n",
    "0 & \\lambda_i & 1 & \\dots & 0 \\\\\n",
    "\\vdots & \\vdots & \\ddots & \\ddots & \\vdots \\\\\n",
    "0 & 0 & \\dots & \\lambda_i & 1 \\\\\n",
    "0 & 0 & \\dots & 0 & \\lambda_i\n",
    "\\end{bmatrix}\n",
    "$$\n",
    "\n",
    "Um problema com a forma de Jordan é que a função que pega qualquer matriz e leva em sua forma canonica de Jordan é descontínua. Descontínua no seguinte sentido, uma pequena perturbação na matriz $A$ pode mudar totalmente a forma de Jordan.\n",
    "\n",
    "Uma maneira de exergar a descontinuidade é utilizando sequências. Segundo o professor, no livro do Golub ele mostra isso, quando estava estudando não havia encontrado, mas encontrei um exemplo em que a descontinuidade ocorre e utilizei isso para resolver um exercicio.\n",
    "\n",
    "---\n",
    "**Exercício:** Mostrar que a função que leva uma matriz em sua forma de Jordan é descontínua.\n",
    "\n",
    "O que fiz foi achar um exemplo em que a descontinuidade ocorre.\n",
    "$$\n",
    "\\begin{array}{c}\n",
    "\\mathbb{R}^{m \\times n} \\; \\to \\; \\mathbb{R}^{m \\times n}\\\\\n",
    "A \\;\\;\\; \\to  \\;\\;\\; J\n",
    "\\end{array},\n",
    "F(A) = J\n",
    "$$\n",
    "\n",
    "Uma maneira de mostra a descontinuidade por meio de sequências é da seguinte forma:\n",
    "$$\n",
    "\\begin{array}{c}\n",
    "x_n \\to x\\\\\n",
    "F(x_n) \\not\\to F(x)\n",
    "\\end{array}\n",
    "$$\n",
    "\n",
    "Isso significa que uma sequência $x_n$ tende a $x$, e uma função $F$ se ela aplicada ao elemento genérico da sequência $x_n$ não convergir para a função aplicada o ponto de acumulação da sequência $x$ significa que a função não é contínua.\n",
    "\n",
    "E essa será a forma para mostrar um caso em que a função que leva uma matriz a sua forma de Jordan não é contínua.\n",
    "\n",
    "Tomando a sequência de matrizes $A_n =\\displaystyle \\begin{bmatrix}\n",
    "\\frac{1}{n} & 1 \\\\\n",
    "0 & -\\frac{1}{n}\n",
    "\\end{bmatrix}$, temos que ela tende à matriz $A =\\displaystyle \\begin{bmatrix}\n",
    "0 & 1 \\\\\n",
    "0 & 0\n",
    "\\end{bmatrix}$\n",
    "\n",
    "Enquanto que a forma de Jordan de $A_n$ tende à $\\displaystyle \\begin{bmatrix}\n",
    "\\frac{1}{n} & 0 \\\\\n",
    "0 & -\\frac{1}{n}\n",
    "\\end{bmatrix}$, a forma de Jordan de $A$ é $\\displaystyle \\begin{bmatrix}\n",
    "0 & 1 \\\\\n",
    "0 & 0\n",
    "\\end{bmatrix}$.\n",
    "\n",
    "Já havíamos visto essa matriz e como ela é defectiva, ou seja, não possui um conjunto completo de autovetores, isso se reflete em sua forma de Jordan. A matriz $A$ possui autovalor zero com multiplicidade 2, seu bloco de jordan reflete o 1 na subdiagonal.\n",
    "\n",
    "A matriz $A_n$ possui autovalores $\\displaystyle \\frac{1}{n}$ e $\\displaystyle -\\frac{1}{n}$, logo possui um conjunto completo de autovetores e sua forma de Jordan é diagonal.\n",
    "\n",
    "Como as entradas de $F(A_n)$ não tendem às entradas de $F(A)$, a função $F$ não é contínua.\n",
    "\n",
    "Este fato está relacionado à multiplicidade dos autovalores e como uma perturbação na matriz afeta seu bloco de Jordan correspondente.\n",
    "\n",
    "Uma analogia que o professor fez foi quanto a função que encontra as raízes de um polinômio, no corpo dos números reais, ela também é descontínua porque pequenas perturbações pode mudar radicalmente as raízes. Pense na situação de uma parábola que só tem uma raíz, qualquer perturbação que descole a parábola do eixo x faz com que não exista mais raízes, daí a descontinuidade.\n",
    "\n",
    "---\n"
   ]
  },
  {
   "cell_type": "markdown",
   "metadata": {},
   "source": [
    "\n",
    "### Decomposição de Schur\n",
    "\n",
    "**Teorema:** Toda matriz quadrada é unitariamente silimar a uma matriz triangular superior, $A = U^H T U$.\n",
    "\n",
    "Isso é bom porque os autovalores ficam na diagonal da matriz triangular. Usaremos essa decomposição quando estudarmos métodos para encontrar os autovalores e autovetores.\n",
    "\n",
    "**Prova:**\n",
    "\n",
    "A prova desse teorema é por indução na dimensão da matriz.\n",
    "\n",
    "Se $n=1$, $A=[a_{11}] \\implies 1.a_{11}.1$, onde $U=[1]$. Para $n=1$ o teorema é trivial.\n",
    " \n",
    "Suponha que o teorema é válido para toda matriz $(n-1) \\times (n-1)$. Seja $A$ uma matriz $n \\times n$, e $\\lambda, u$ um par autovalor e autovetor ($Au= \\lambda u$) com $\\|u\\|_2 = 1$.\n",
    "\n",
    "Agora, é possível encontrar $\\tilde{U}_{n \\times (n-1)}$ tal que $U = [u \\; \\tilde{U}]$ seja uma matriz unitária. Isso é possível, pois pode-se completar uma base dada um conjunto inicial de vetores LI, de forma que essa base seja ortonormal.\n",
    "\n",
    "Com isso temos:\n",
    "\n",
    "$$\n",
    "U^HAU = \\begin{bmatrix} u^H \\\\ \\tilde{U}^H\\end{bmatrix} A \\begin{bmatrix} u & \\tilde{U}\\end{bmatrix} =\n",
    "\\begin{bmatrix}\n",
    "(u^H A u)_{1 \\times 1}  & (u^H A \\tilde{U})_{1 \\times n-1} \\\\\n",
    "(\\tilde{U}^H A u)_{1 \\times 1} & (\\tilde{U}^H A \\tilde{U})_{n-1 \\times n-1}\n",
    "\\end{bmatrix}\n",
    "$$\n",
    "$$\n",
    "= \\begin{bmatrix} \\lambda & \\mathbf{a'_{12}} \\\\ 0 & \\tilde{A}_{n-1 \\times n-1}\\end{bmatrix}\n",
    "$$\n",
    "\n",
    "Pois, como a norma do autovetor é 1, o produto $u^H A u = u^H (\\lambda u) = \\lambda u^H u = \\lambda$. Já o vetor $\\mathbf{a'_{12}}$ é fruto da multiplicação $u^H A \\tilde{U}$. O 0 é obtido pois, $\\tilde{U}^H A u = \\tilde{U}^H (\\lambda u) = \\lambda (\\tilde{U}^H u) = 0$, já que $\\tilde{U}$ e $u$ são ortogonais por construção de $\\tilde{U}$.\n",
    "\n",
    "Como supomos que as hipóteses do teorema são válidas para $n-1$, é possível decompor $\\tilde{A}$.\n",
    "\n",
    "Ou seja, $\\exists \\; P$ tal que $\\tilde{A} = P \\tilde{T} P^H$. Utilizando essa decomposição na matriz anterior teremos:\n",
    "\n",
    "$$\n",
    "\\begin{bmatrix} \\lambda & \\mathbf{a'_{12}} \\\\ 0 & \\tilde{A}\\end{bmatrix} =\n",
    "\\begin{bmatrix} \\lambda & \\mathbf{a'_{12}} \\\\ 0 & P \\tilde{T} P^H \\end{bmatrix}\n",
    "$$\n",
    "$$\n",
    "= \\begin{bmatrix} 1 & 0 \\\\ 0 & P\\end{bmatrix} \\begin{bmatrix} \\lambda & \\mathbf{a'_{12}} \\\\ 0 & \\tilde{T}\\end{bmatrix}\n",
    "\\begin{bmatrix} 1 & 0 \\\\ 0 & P^H\\end{bmatrix}\n",
    "$$\n",
    "\n",
    "Onde $H = \\displaystyle \\begin{bmatrix} 1 & 0 \\\\ 0 & P\\end{bmatrix}$, e $H H^H = \\displaystyle \\begin{bmatrix} 1 & 0 \\\\ 0 & PP^H\\end{bmatrix}= I_{n \\times n}$,ou seja, $H$ é unitária.\n",
    "\n",
    "Ou seja, $H^H U^H A U H = \\displaystyle H \\begin{bmatrix} \\lambda & \\mathbf{x} \\\\ 0 & \\tilde{T}\\end{bmatrix} H^H$ que é triangular superior como queríamos mostrar. E como o produto de unitárias é unitária ($(UH)(UH)^H = UHH^HU^H = U I U^H = I $), a matriz $A$ é unitariamente similar à uma matriz triangular superior, como queríamos demonstrar.\n",
    "\n",
    "---\n"
   ]
  },
  {
   "cell_type": "markdown",
   "metadata": {},
   "source": []
  },
  {
   "cell_type": "markdown",
   "metadata": {},
   "source": []
  },
  {
   "cell_type": "markdown",
   "metadata": {},
   "source": []
  },
  {
   "cell_type": "markdown",
   "metadata": {},
   "source": []
  },
  {
   "cell_type": "markdown",
   "metadata": {},
   "source": []
  },
  {
   "cell_type": "markdown",
   "metadata": {},
   "source": []
  },
  {
   "cell_type": "markdown",
   "metadata": {},
   "source": []
  },
  {
   "cell_type": "markdown",
   "metadata": {},
   "source": []
  },
  {
   "cell_type": "markdown",
   "metadata": {},
   "source": []
  },
  {
   "cell_type": "markdown",
   "metadata": {},
   "source": []
  },
  {
   "cell_type": "markdown",
   "metadata": {},
   "source": []
  },
  {
   "cell_type": "markdown",
   "metadata": {},
   "source": []
  },
  {
   "cell_type": "markdown",
   "metadata": {},
   "source": []
  }
 ],
 "metadata": {
  "kernelspec": {
   "display_name": "Python 3",
   "language": "python",
   "name": "python3"
  },
  "language_info": {
   "codemirror_mode": {
    "name": "ipython",
    "version": 3
   },
   "file_extension": ".py",
   "mimetype": "text/x-python",
   "name": "python",
   "nbconvert_exporter": "python",
   "pygments_lexer": "ipython3",
   "version": "3.6.5"
  }
 },
 "nbformat": 4,
 "nbformat_minor": 2
}
