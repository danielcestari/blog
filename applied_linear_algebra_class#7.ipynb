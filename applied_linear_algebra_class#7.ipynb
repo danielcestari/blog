{
 "cells": [
  {
   "cell_type": "code",
   "execution_count": 1,
   "metadata": {},
   "outputs": [
    {
     "data": {
      "application/javascript": [
       "MathJax.Extension[\"TeX/cancel\"]={version:\"2.4.0\",ALLOWED:{color:1,mathcolor:1,background:1,mathbackground:1,padding:1,thickness:1}};MathJax.Hub.Register.StartupHook(\"TeX Jax Ready\",function(){var c=MathJax.InputJax.TeX,a=MathJax.ElementJax.mml,b=MathJax.Extension[\"TeX/cancel\"];b.setAttributes=function(h,e){if(e!==\"\"){e=e.replace(/ /g,\"\").split(/,/);for(var g=0,d=e.length;g<d;g++){var f=e[g].split(/[:=]/);if(b.ALLOWED[f[0]]){if(f[1]===\"true\"){f[1]=true}if(f[1]===\"false\"){f[1]=false}h[f[0]]=f[1]}}}return h};c.Definitions.Add({macros:{cancel:[\"Cancel\",a.NOTATION.UPDIAGONALSTRIKE],bcancel:[\"Cancel\",a.NOTATION.DOWNDIAGONALSTRIKE],xcancel:[\"Cancel\",a.NOTATION.UPDIAGONALSTRIKE+\" \"+a.NOTATION.DOWNDIAGONALSTRIKE],cancelto:\"CancelTo\"}},null,true);c.Parse.Augment({Cancel:function(e,g){var d=this.GetBrackets(e,\"\"),f=this.ParseArg(e);var h=b.setAttributes({notation:g},d);this.Push(a.menclose(f).With(h))},CancelTo:function(e,g){var i=this.ParseArg(e),d=this.GetBrackets(e,\"\"),f=this.ParseArg(e);var h=b.setAttributes({notation:a.NOTATION.UPDIAGONALSTRIKE+\" \"+a.NOTATION.UPDIAGONALARROW},d);i=a.mpadded(i).With({depth:\"-.1em\",height:\"+.1em\",voffset:\".1em\"});this.Push(a.msup(a.menclose(f).With(h),i))}});MathJax.Hub.Startup.signal.Post(\"TeX cancel Ready\")});MathJax.Ajax.loadComplete(\"[MathJax]/extensions/TeX/cancel.js\");\n"
      ],
      "text/plain": [
       "<IPython.core.display.Javascript object>"
      ]
     },
     "metadata": {},
     "output_type": "display_data"
    }
   ],
   "source": [
    "%%javascript\n",
    "MathJax.Extension[\"TeX/cancel\"]={version:\"2.4.0\",ALLOWED:{color:1,mathcolor:1,background:1,mathbackground:1,padding:1,thickness:1}};MathJax.Hub.Register.StartupHook(\"TeX Jax Ready\",function(){var c=MathJax.InputJax.TeX,a=MathJax.ElementJax.mml,b=MathJax.Extension[\"TeX/cancel\"];b.setAttributes=function(h,e){if(e!==\"\"){e=e.replace(/ /g,\"\").split(/,/);for(var g=0,d=e.length;g<d;g++){var f=e[g].split(/[:=]/);if(b.ALLOWED[f[0]]){if(f[1]===\"true\"){f[1]=true}if(f[1]===\"false\"){f[1]=false}h[f[0]]=f[1]}}}return h};c.Definitions.Add({macros:{cancel:[\"Cancel\",a.NOTATION.UPDIAGONALSTRIKE],bcancel:[\"Cancel\",a.NOTATION.DOWNDIAGONALSTRIKE],xcancel:[\"Cancel\",a.NOTATION.UPDIAGONALSTRIKE+\" \"+a.NOTATION.DOWNDIAGONALSTRIKE],cancelto:\"CancelTo\"}},null,true);c.Parse.Augment({Cancel:function(e,g){var d=this.GetBrackets(e,\"\"),f=this.ParseArg(e);var h=b.setAttributes({notation:g},d);this.Push(a.menclose(f).With(h))},CancelTo:function(e,g){var i=this.ParseArg(e),d=this.GetBrackets(e,\"\"),f=this.ParseArg(e);var h=b.setAttributes({notation:a.NOTATION.UPDIAGONALSTRIKE+\" \"+a.NOTATION.UPDIAGONALARROW},d);i=a.mpadded(i).With({depth:\"-.1em\",height:\"+.1em\",voffset:\".1em\"});this.Push(a.msup(a.menclose(f).With(h),i))}});MathJax.Hub.Startup.signal.Post(\"TeX cancel Ready\")});MathJax.Ajax.loadComplete(\"[MathJax]/extensions/TeX/cancel.js\");"
   ]
  },
  {
   "cell_type": "markdown",
   "metadata": {},
   "source": [
    "# Aula 7\n",
    "\n",
    "Continuaremos a análise de erro do GEM, agora focando na terceira fonte de erro na resolução de sistemas lineares, o erro devido a decomposição de $A$ em $LU$.\n",
    "\n",
    "Boa parte dos resultados são tirados do livro do Golub.\n",
    "\n",
    "Já temos como resultado $\\displaystyle \\frac{\\| \\overbrace{\\delta x}^{\\delta x = x - \\hat{x}} \\|}{\\|x\\|} \\leq \\frac{K(A)}{1 - K(A) \\frac{\\| \\delta A \\|}{\\|A\\|}} \\left( \\frac{\\| \\delta b\\|}{\\|b\\|} + \\frac{\\| \\delta A \\|}{\\|A\\|}\\right)$ dado que $\\|\\delta A\\|\\|A\\|^{-1} <1$, essa expressão a análise de erro pra trás (Backward error analysis). Essa análise nos permite determinar a perturbação nos dados $A$ e $b$ de forma que $\\hat{x}$ seja solução exata do sistema perturbado.\n",
    "\n",
    "Tentaremos encontrar limitantes aos erros relativos nos dados $\\displaystyle \\left( \\frac{\\|\\delta A\\|}{\\|A\\|} \\text{ e } \\frac{\\|\\delta b\\|}{\\|b\\|} \\right)$ para o GEM.\n",
    "\n",
    "Dado o sistema $Ax=b$, considerando erro nos dados obtemos o sistema $(A+\\delta A) \\hat{x} = b+\\delta b$, onde $\\hat{x}$ é a solução exata do sistema aproximado devido aos erros. Focando no erro da matriz $A$ mudaremos a notação para $(A + E) \\hat{x} = b+\\delta b$ e obteremos o seguinte limitante $|E| \\leq n u (3|A| + 5 |\\hat{L}|||\\hat{U}|) + O(u^2)$, lembrando que a notação $|E|$ é element-wise. As matrizes $L$ e $U$ tem o símbolo $\\hat{~}$ pois assumimos que elas já foram computadas, portanto, já tem algum erro intrínsico.\n",
    "\n",
    "Lembrando que como GEM utiliza a decomposição $LU$ temos:\n",
    "$$\n",
    "Ax = b \\iff LUx=b \\iff \\left\\{\\begin{array}{l}Ly=b\\\\ Ux=y\\end{array}\\right.\\\\\n",
    "\\text{o que implica nos seguintes error }\\left\\{\\begin{array}{l}\n",
    "A = LU \\text{, erro da decomposição}\\\\\n",
    "Ly=b \\text{, erro de encontrar }y\\\\\n",
    "Ux=y \\text{, erro de encontrar }x\n",
    "\\end{array}\\right.\n",
    "$$\n",
    "\n",
    "Utilizando letras diferentes para cada erro temos:\n",
    "$$\n",
    "\\begin{array}{}\n",
    "(A + E) \\hat{x} = b & |E| \\leq n u (3|A| + 5 |\\hat{L}|||\\hat{U}|) + O(u^2) \\\\\n",
    "(\\hat{L} + F) \\hat{y} = b & |F| \\leq n u |\\hat{L}| + O(u^2) \\\\\n",
    "(\\hat{U} + G) \\hat{x} = \\hat{y} & |G| \\leq n u |\\hat{U}| + O(u^2) \\\\\n",
    "A+ H = \\hat{L} + \\hat{U} & |H| \\leq 3 (n-1) u (|A| + |\\hat{L}||\\hat{U}|) + O(u^2)\n",
    "\\end{array}\n",
    "$$\n",
    "\n",
    "Os limitantes para $F$ e $G$ já foram calculadas na aula passada, resta $E$ e $H$.\n",
    "Substituindo $(\\hat{U} + G) \\hat{x} = \\hat{y}$ em $(\\hat{L} + F) \\hat{y} = b$ obtemos: $(\\hat{L}+F)(\\hat{U}+G) \\hat{x} = b$\n",
    "$$\n",
    "(\\overbrace{\\hat{L}\\hat{U}}^{A} + \\hat{L}G + F\\hat{U} + FG) \\hat{x}=b\\\\\n",
    "(A + \\underbrace{H + \\hat{L}G+F\\hat{U}+FG}_{E})\\hat{x} = b\\\\\n",
    "(A+E)\\hat{x} = b, \\text{ logo, }\\\\\n",
    "E = \\underbrace{H}_\\text{erro da decomposição LU} + \\underbrace{\\hat{L}G}_\\text{erro da upper triangular} + \\underbrace{F\\hat{U}}_\\text{erro da lower triangular} + \\cancel{FG}\n",
    "$$\n",
    "Desconsideramos o termo de segunda ordem $O(u^2)= FG$, lembre-se que $F$ e $G$ são $\\delta$ de sua respectiva matriz. \n",
    "Ainda não temos um limitante para $H$.\n",
    "\n",
    "---"
   ]
  },
  {
   "cell_type": "markdown",
   "metadata": {},
   "source": [
    "Antes de continuar o Professor fez comentários sobre alguns resultados do livro do Golub, começando pelo lemma 2.7.1 na página 83.\n",
    "\n",
    "**Lema:**\n",
    "Dado um sistema linear $Ax=b$ e sua versão aproximada $(A + \\delta A) y = b + \\delta b$, se temos limitantes para o erro nos dados ($A$ e $b$) da forma:\n",
    "\n",
    "$\\|\\delta A\\| \\leq \\epsilon \\|A\\|$ e $\\|\\delta b\\| \\leq \\epsilon \\|b\\|$ como já visto, e além disso $r=\\epsilon K(A) < 1$, então:\n",
    "\n",
    "$$(A + \\delta A)\\text{ é não singular e } \\frac{\\|y\\|}{\\|x\\|} \\leq \\frac{1+r}{1-r}$$\n",
    "\n",
    "Ou seja, temos um limitante para a razão entre a solução exata do sistema e a solução da versão aproximada do sistema em função do limitante do erro nos dados e do número de condição da matriz, além da garantia da matriz $(A + \\delta A)$ ser não singular.\n",
    "\n",
    "---\n",
    "\n",
    "O resultado a seguir será utilizado na demonstração do lema acima.\n",
    "\n",
    "Dado que $A+\\delta A$ é não singular implica que $\\|\\delta A\\| \\|A\\|^{-1} <1$.\n",
    "$$\n",
    "A+\\delta A = A(I + A^{-1}\\delta A), \\text{ lembrando que }\\\\\n",
    "\\text{Se } \\|B\\|<1, \\text{ então } I+B \\text{ é invertível (soma da série geométrica), e }\\\\\n",
    "(I+B)^{-1} = I + B + B^2 + \\ldots \\implies \\|I+B\\|^{-1} \\leq \\frac{1}{1 - \\|B\\|}\\\\\n",
    "\\text{logo, se } A+\\delta A \\text{ é não singular, } (I + A^{-1}\\delta A) \\text{ é invertível.}\n",
    "$$\n",
    "\n",
    "---\n",
    "\n",
    "Para demonstrar esse lema procedemos da seguinte forma:\n",
    "\n",
    "Definimos $r=\\epsilon K(A)$, para estabelecer que $A+\\delta A$ é invertível precisamos chegar em $\\|\\delta A\\| \\|A\\|^{-1} <1$. Desenvolvendo essa expressão utilizando $r$, $K(A)$ e $\\epsilon$, obtemos:\n",
    "$$\n",
    "\\|\\delta A\\| \\|A\\|^{-1} \\leq \\epsilon  \\overbrace{\\|A\\| \\|A\\|^{-1}}^{K(A)} = K(A) \\epsilon < 1, \\\\\n",
    "\\text{ se } \\|\\delta A\\| \\leq \\epsilon \\|A\\| \\text{ e } r = \\epsilon K(A) < 1\n",
    "$$\n",
    "Com isso demonstramos que dada as hipóteses $\\|\\delta A\\| \\leq \\epsilon \\|A\\| \\text{ e } r = \\epsilon K(A) < 1$, $A+\\delta A$ é não singular.\n",
    "\n",
    "Agora para estabelecer a razão entre as soluções multiplicando a expressão $(A + \\delta A) y = b + \\delta b$ por $A^{-1}$ obtemos:\n",
    "$$\n",
    "(A + \\delta A) y = b + \\delta b \\implies A(I + A^{-1}\\delta A) y = b + \\delta b,  (\\times A^{-1} \\text{ a esquerda})\\\\\n",
    "A^{-1} \\times A(I + A^{-1}\\delta A) y = A^{-1} (b + \\delta b) \\implies (I + A^{-1}\\delta A) y = \\overbrace{A^{-1}b}^{x} + A^{-1}\\delta b)\\\\\n",
    "(I + A^{-1}\\delta A) y = x + A^{-1}\\delta b \\\\\n",
    "y = (I + A^{-1}\\delta A)^{-1} (x + A^{-1}\\delta b)\\\\\n",
    "\\|y\\| \\leq \\underbrace{\\|(I + A^{-1}\\delta A)^{-1}\\|}_{\\displaystyle \\leq \\frac{1}{1 - \\|A^{-1}\\delta A\\|}} (\\|x\\| + \\|A^{-1}\\| \\|\\delta b\\|)\\\\\n",
    "\\text{queremos relacionar essa expressão com } r = \\epsilon K(A) \\text{ e temos que }\\\\\n",
    "\\|A^{-1}\\delta A\\| \\leq \\|A^{-1}\\| \\underbrace{\\|\\delta A\\|}_{\\|\\delta A \\| \\leq \\epsilon \\|A\\| \\text{ pela hipótese}} \\leq \\|A^{-1}\\| \\epsilon \\|A\\| = r\\\\\n",
    "\\text{substituindo essa última desigualdade na expressão de } y \\text{ obtemos:}\\\\\n",
    "\\|y\\| \\leq  \\frac{1}{1 - \\|A^{-1}\\delta A\\|} (\\|x\\| + \\|A^{-1}\\| \\|\\delta b\\|)\\\\\n",
    "\\|y\\| \\leq  \\frac{1}{1 - r} (\\|x\\| + \\|A^{-1}\\| \\underbrace{\\|\\delta b\\|}_{\\leq \\epsilon \\|b\\|})\\\\\n",
    "\\|y\\| \\leq  \\frac{1}{1 - r} (\\|x\\| + \\|A^{-1}\\| \\epsilon \\|b\\|) \\text{, divindo por } \\|x\\|\\\\\n",
    "\\frac{\\|y\\|}{\\|x\\|} \\leq  \\frac{1}{1 - r} (1 + \\|A^{-1}\\| \\epsilon \\frac{\\|b\\|}{\\|x\\|})\\\\\n",
    "\\frac{\\|y\\|}{\\|x\\|} \\leq  \\frac{1}{1 - r} (1 + \\|A^{-1}\\| \\epsilon \\|A\\|)\\\\\n",
    "\\frac{\\|y\\|}{\\|x\\|} \\leq  \\frac{1}{1 - r} (1 + r)\\\\\n",
    "\\frac{\\|y\\|}{\\|x\\|} \\leq  \\frac{1+r}{1 - r}\\\\\n",
    "$$\n",
    "QED\n",
    "\n",
    "---\n",
    "\n"
   ]
  },
  {
   "cell_type": "markdown",
   "metadata": {},
   "source": [
    "Outro resultado do livro do Golub é o teorema 2.7.2 também da página 83.\n",
    "\n",
    "Com as mesma suposições do lema anterior obtemos $\\displaystyle \\frac{\\|y-x\\|}{\\|x\\|} \\leq \\frac{2\\epsilon}{1-r} K(A)$. Apenas para formalizar como um teorema reescreveremos ele.\n",
    "**Teorema:**\n",
    "Dado um sistema linear $Ax=b$ e sua versão aproximada $(A + \\delta A) y = b + \\delta b$, se temos limitantes para o erro nos dados ($A$ e $b$) da forma:\n",
    "\n",
    "$\\|\\delta A\\| \\leq \\epsilon \\|A\\|$ e $\\|\\delta b\\| \\leq \\epsilon \\|b\\|$ como já visto, e além disso $r=\\epsilon K(A) < 1$, então:\n",
    "\n",
    "$$(A + \\delta A)\\text{ é não singular e } \\frac{\\|y-x\\|}{\\|x\\|} \\leq \\frac{2\\epsilon}{1-r} K(A)$$\n",
    "\n",
    "---\n",
    "\n",
    "Para chegar nesse novo limitando é só desenvolver um pouco a expressão do resultado principal da análise de erro, substituindo o que der por $r$:\n",
    "$$\n",
    "\\frac{\\| \\delta x \\|}{\\|x\\|} \\leq \\frac{K(A)}{1 - \\underbrace{K(A) \\frac{\\| \\delta A \\|}{\\|A\\|}}_{\\|A^{-1}\\| \\cancel{\\|A\\|} \\frac{\\|\\delta A\\|}{ \\cancel{\\|A\\|} }}} \\left( \\frac{\\| \\delta b\\|}{\\|b\\|} + \\frac{\\| \\delta A \\|}{\\|A\\|}\\right) \\\\\n",
    "\\frac{\\| \\delta x \\|}{\\|x\\|} \\leq \\frac{K(A)}{1 - \\|A^{-1}\\| \\|\\delta A \\|} \\left( \\underbrace{\\frac{\\| \\delta b\\|}{\\|b\\|}}_{\\epsilon} + \\underbrace{\\frac{\\| \\delta A \\|}{\\|A\\|}}_{\\epsilon}\\right)\\\\\n",
    "\\frac{\\| \\delta x \\|}{\\|x\\|} \\leq \\frac{K(A)}{1 - \\|A^{-1}\\| \\|\\delta A \\|} 2 \\epsilon\\\\\n",
    "\\text{como } (A+\\delta A) \\text{ é invertível se } \\|A^{-1}\\| \\|\\delta A\\| < 1 \\\\\n",
    "\\frac{\\| \\delta x \\|}{\\|x\\|} \\leq \\frac{K(A)}{1 - r} 2 \\epsilon\\\\\n",
    "$$\n",
    "QED\n",
    "\n",
    "---\n"
   ]
  },
  {
   "cell_type": "markdown",
   "metadata": {},
   "source": []
  },
  {
   "cell_type": "markdown",
   "metadata": {},
   "source": []
  },
  {
   "cell_type": "markdown",
   "metadata": {},
   "source": []
  },
  {
   "cell_type": "markdown",
   "metadata": {},
   "source": []
  },
  {
   "cell_type": "markdown",
   "metadata": {},
   "source": []
  },
  {
   "cell_type": "markdown",
   "metadata": {},
   "source": []
  },
  {
   "cell_type": "markdown",
   "metadata": {},
   "source": []
  },
  {
   "cell_type": "markdown",
   "metadata": {},
   "source": []
  },
  {
   "cell_type": "markdown",
   "metadata": {},
   "source": []
  },
  {
   "cell_type": "markdown",
   "metadata": {},
   "source": []
  },
  {
   "cell_type": "markdown",
   "metadata": {},
   "source": []
  },
  {
   "cell_type": "markdown",
   "metadata": {},
   "source": []
  },
  {
   "cell_type": "markdown",
   "metadata": {},
   "source": []
  },
  {
   "cell_type": "markdown",
   "metadata": {},
   "source": []
  },
  {
   "cell_type": "markdown",
   "metadata": {},
   "source": []
  },
  {
   "cell_type": "markdown",
   "metadata": {},
   "source": []
  },
  {
   "cell_type": "markdown",
   "metadata": {},
   "source": []
  },
  {
   "cell_type": "markdown",
   "metadata": {},
   "source": []
  },
  {
   "cell_type": "markdown",
   "metadata": {},
   "source": []
  }
 ],
 "metadata": {
  "kernelspec": {
   "display_name": "Python 3",
   "language": "python",
   "name": "python3"
  },
  "language_info": {
   "codemirror_mode": {
    "name": "ipython",
    "version": 3
   },
   "file_extension": ".py",
   "mimetype": "text/x-python",
   "name": "python",
   "nbconvert_exporter": "python",
   "pygments_lexer": "ipython3",
   "version": "3.7.2"
  }
 },
 "nbformat": 4,
 "nbformat_minor": 2
}
