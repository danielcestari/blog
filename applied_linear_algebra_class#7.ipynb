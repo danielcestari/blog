{
 "cells": [
  {
   "cell_type": "markdown",
   "metadata": {},
   "source": [
    "# Aula 7\n",
    "\n",
    "Continuaremos a análise de erro do GEM, agora focando na terceira fonte de erro na resolução de sistemas lineares, o erro devido a decomposição de $A$ em $LU$.\n",
    "\n",
    "Boa parte dos resultados são tirados do livro do Golub.\n",
    "\n",
    "Já temos como resultado $\\displaystyle \\frac{\\| \\overbrace{\\delta x}^{\\delta x = x - \\hat{x}} \\|}{\\|x\\|} \\leq \\frac{K(A)}{1 - K(A) \\frac{\\| \\delta A \\|}{\\|A\\|}} \\left( \\frac{\\| \\delta b\\|}{\\|b\\|} + \\frac{\\| \\delta A \\|}{\\|A\\|}\\right)$ dado que $\\|\\delta A\\|\\|A\\|^{-1} <1$, essa expressão a análise de erro pra trás (Backward error analysis). Essa análise nos permite determinar a perturbação nos dados $A$ e $b$ de forma que $\\hat{x}$ seja solução exata do sistema perturbado.\n",
    "\n",
    "Tentaremos encontrar limitantes aos erros relativos nos dados $\\displaystyle \\left( \\frac{\\|\\delta A\\|}{\\|A\\|} \\text{ e } \\frac{\\|\\delta b\\|}{\\|b\\|} \\right)$ para o GEM.\n",
    "\n",
    "Dado o sistema $Ax=b$, considerando erro nos dados obtemos o sistema $(A+\\delta A) \\hat{x} = b+\\delta b$, onde $\\hat{x}$ é a solução exata do sistema aproximado devido aos erros. Focando no erro da matriz $A$ mudaremos a notação para $(A + E) \\hat{x} = b+\\delta b$ e obteremos o seguinte limitante $|E| \\leq n u (3|A| + 5 |\\hat{L}|||\\hat{U}|) + O(u^2)$, lembrando que a notação $|E|$ é element-wise. As matrizes $L$ e $U$ tem o símbolo $\\hat{~}$ pois assumimos que elas já foram computadas, portanto, já tem algum erro intrínsico.\n",
    "\n",
    "Lembrando que como GEM utiliza a decomposição $LU$ temos:\n",
    "$$\n",
    "Ax = b \\iff LUx=b \\iff \\left\\{\\begin{array}{l}Ly=b\\\\ Ux=y\\end{array}\\right.\\\\\n",
    "\\text{o que implica nos seguintes error }\\left\\{\\begin{array}{l}\n",
    "A = LU \\text{, erro da decomposição}\\\\\n",
    "Ly=b \\text{, erro de encontrar }y\\\\\n",
    "Ux=y \\text{, erro de encontrar }x\n",
    "\\end{array}\\right.\n",
    "$$\n",
    "\n",
    "Utilizando letras diferentes para cada erro temos:\n",
    "$$\n",
    "\\begin{array}{}\n",
    "(A + E) \\hat{x} = b & |E| \\leq n u (3|A| + 5 |\\hat{L}|||\\hat{U}|) + O(u^2) \\\\\n",
    "(\\hat{L} + F) \\hat{y} = b & |F| \\leq n u |\\hat{L}| + O(u^2) \\\\\n",
    "(\\hat{U} + G) \\hat{x} = \\hat{y} & |G| \\leq n u |\\hat{U}| + O(u^2) \\\\\n",
    "A+ H = \\hat{L} + \\hat{U} & |H| \\leq 3 (n-1) u (|A| + |\\hat{L}||\\hat{U}|) + O(u^2)\n",
    "\\end{array}\n",
    "$$\n",
    "\n",
    "Os limitantes para $F$ e $G$ já foram calculadas na aula passada, resta $E$ e $H$.\n",
    "\n"
   ]
  },
  {
   "cell_type": "markdown",
   "metadata": {},
   "source": []
  },
  {
   "cell_type": "markdown",
   "metadata": {},
   "source": []
  },
  {
   "cell_type": "markdown",
   "metadata": {},
   "source": []
  },
  {
   "cell_type": "markdown",
   "metadata": {},
   "source": []
  },
  {
   "cell_type": "markdown",
   "metadata": {},
   "source": []
  },
  {
   "cell_type": "markdown",
   "metadata": {},
   "source": []
  },
  {
   "cell_type": "markdown",
   "metadata": {},
   "source": []
  },
  {
   "cell_type": "markdown",
   "metadata": {},
   "source": []
  },
  {
   "cell_type": "markdown",
   "metadata": {},
   "source": []
  },
  {
   "cell_type": "markdown",
   "metadata": {},
   "source": []
  },
  {
   "cell_type": "markdown",
   "metadata": {},
   "source": []
  },
  {
   "cell_type": "markdown",
   "metadata": {},
   "source": []
  },
  {
   "cell_type": "markdown",
   "metadata": {},
   "source": []
  },
  {
   "cell_type": "markdown",
   "metadata": {},
   "source": []
  },
  {
   "cell_type": "markdown",
   "metadata": {},
   "source": []
  },
  {
   "cell_type": "markdown",
   "metadata": {},
   "source": []
  },
  {
   "cell_type": "markdown",
   "metadata": {},
   "source": []
  },
  {
   "cell_type": "markdown",
   "metadata": {},
   "source": []
  },
  {
   "cell_type": "markdown",
   "metadata": {},
   "source": []
  },
  {
   "cell_type": "markdown",
   "metadata": {},
   "source": []
  },
  {
   "cell_type": "markdown",
   "metadata": {},
   "source": []
  }
 ],
 "metadata": {
  "kernelspec": {
   "display_name": "Python 3",
   "language": "python",
   "name": "python3"
  },
  "language_info": {
   "codemirror_mode": {
    "name": "ipython",
    "version": 3
   },
   "file_extension": ".py",
   "mimetype": "text/x-python",
   "name": "python",
   "nbconvert_exporter": "python",
   "pygments_lexer": "ipython3",
   "version": "3.7.2"
  }
 },
 "nbformat": 4,
 "nbformat_minor": 2
}
