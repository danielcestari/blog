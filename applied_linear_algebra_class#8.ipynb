{
 "cells": [
  {
   "cell_type": "code",
   "execution_count": 2,
   "metadata": {},
   "outputs": [
    {
     "data": {
      "application/javascript": [
       "MathJax.Extension[\"TeX/cancel\"]={version:\"2.4.0\",ALLOWED:{color:1,mathcolor:1,background:1,mathbackground:1,padding:1,thickness:1}};MathJax.Hub.Register.StartupHook(\"TeX Jax Ready\",function(){var c=MathJax.InputJax.TeX,a=MathJax.ElementJax.mml,b=MathJax.Extension[\"TeX/cancel\"];b.setAttributes=function(h,e){if(e!==\"\"){e=e.replace(/ /g,\"\").split(/,/);for(var g=0,d=e.length;g<d;g++){var f=e[g].split(/[:=]/);if(b.ALLOWED[f[0]]){if(f[1]===\"true\"){f[1]=true}if(f[1]===\"false\"){f[1]=false}h[f[0]]=f[1]}}}return h};c.Definitions.Add({macros:{cancel:[\"Cancel\",a.NOTATION.UPDIAGONALSTRIKE],bcancel:[\"Cancel\",a.NOTATION.DOWNDIAGONALSTRIKE],xcancel:[\"Cancel\",a.NOTATION.UPDIAGONALSTRIKE+\" \"+a.NOTATION.DOWNDIAGONALSTRIKE],cancelto:\"CancelTo\"}},null,true);c.Parse.Augment({Cancel:function(e,g){var d=this.GetBrackets(e,\"\"),f=this.ParseArg(e);var h=b.setAttributes({notation:g},d);this.Push(a.menclose(f).With(h))},CancelTo:function(e,g){var i=this.ParseArg(e),d=this.GetBrackets(e,\"\"),f=this.ParseArg(e);var h=b.setAttributes({notation:a.NOTATION.UPDIAGONALSTRIKE+\" \"+a.NOTATION.UPDIAGONALARROW},d);i=a.mpadded(i).With({depth:\"-.1em\",height:\"+.1em\",voffset:\".1em\"});this.Push(a.msup(a.menclose(f).With(h),i))}});MathJax.Hub.Startup.signal.Post(\"TeX cancel Ready\")});MathJax.Ajax.loadComplete(\"[MathJax]/extensions/TeX/cancel.js\");\n"
      ],
      "text/plain": [
       "<IPython.core.display.Javascript object>"
      ]
     },
     "metadata": {},
     "output_type": "display_data"
    }
   ],
   "source": [
    "%%javascript\n",
    "MathJax.Extension[\"TeX/cancel\"]={version:\"2.4.0\",ALLOWED:{color:1,mathcolor:1,background:1,mathbackground:1,padding:1,thickness:1}};MathJax.Hub.Register.StartupHook(\"TeX Jax Ready\",function(){var c=MathJax.InputJax.TeX,a=MathJax.ElementJax.mml,b=MathJax.Extension[\"TeX/cancel\"];b.setAttributes=function(h,e){if(e!==\"\"){e=e.replace(/ /g,\"\").split(/,/);for(var g=0,d=e.length;g<d;g++){var f=e[g].split(/[:=]/);if(b.ALLOWED[f[0]]){if(f[1]===\"true\"){f[1]=true}if(f[1]===\"false\"){f[1]=false}h[f[0]]=f[1]}}}return h};c.Definitions.Add({macros:{cancel:[\"Cancel\",a.NOTATION.UPDIAGONALSTRIKE],bcancel:[\"Cancel\",a.NOTATION.DOWNDIAGONALSTRIKE],xcancel:[\"Cancel\",a.NOTATION.UPDIAGONALSTRIKE+\" \"+a.NOTATION.DOWNDIAGONALSTRIKE],cancelto:\"CancelTo\"}},null,true);c.Parse.Augment({Cancel:function(e,g){var d=this.GetBrackets(e,\"\"),f=this.ParseArg(e);var h=b.setAttributes({notation:g},d);this.Push(a.menclose(f).With(h))},CancelTo:function(e,g){var i=this.ParseArg(e),d=this.GetBrackets(e,\"\"),f=this.ParseArg(e);var h=b.setAttributes({notation:a.NOTATION.UPDIAGONALSTRIKE+\" \"+a.NOTATION.UPDIAGONALARROW},d);i=a.mpadded(i).With({depth:\"-.1em\",height:\"+.1em\",voffset:\".1em\"});this.Push(a.msup(a.menclose(f).With(h),i))}});MathJax.Hub.Startup.signal.Post(\"TeX cancel Ready\")});MathJax.Ajax.loadComplete(\"[MathJax]/extensions/TeX/cancel.js\");"
   ]
  },
  {
   "cell_type": "markdown",
   "metadata": {},
   "source": [
    "# Aula 8\n",
    "\n",
    "Faltou apenas um ponto não coberto na última aula, a análise do erro com pivotamento parcial.\n",
    "\n",
    "$$\n",
    "(A+E) \\hat{x} = b \\\\\n",
    "|E| \\leq 3 nu |A| + 5 nu P^T |\\hat{L}| |\\hat{U}|, \\text{essa expressão vem do problema anterior com } \\\\\n",
    "\\hat{L} \\hat{U} = PA + H \\\\\n",
    "\\text{logo, multiplicando a matriz de permutação transposta } P^T \\text{ a esquerda} \\\\\n",
    "P^T \\hat{L} \\hat{U} = A + \\underbrace{P^T H}_\\text{não muda as bounds porque apenas troca linhas e colunas}\n",
    "$$\n",
    "\n",
    "A bound anterior não é boa pois $E$ depende de $\\hat{L}\\hat{U}$ e não apenas de $A$\n",
    "\n",
    "---\n",
    "\n",
    "O proceso de eliminação utilizado na decomposição dá problam quando um zero acaba na diagonal, nesses casos pivotamento ajuda tornando o processo de eliminação mais estável. Foi explicado o pivotamento completo e parcial na aula 5, aqui estamos apenas dfazendo a análise do erro.\n",
    "\n",
    "\n",
    "$$\n",
    "\\| \\hat{L} \\|_\\infty = \\max_{1 \\leq i \\leq n}{\\sum_{j=1}^{n} l_{ij}}\n",
    "$$\n",
    "$$\n",
    "L = \\begin{bmatrix}\n",
    "    1 & 0 & 0 & \\dots  & 0 \\\\\n",
    "    l_{21} & 1 & 0 & \\dots & 0 \\\\\n",
    "    l_{31} & \\vdots & 1 & \\dots & 0 \\\\\n",
    "    \\vdots & \\vdots & \\vdots & \\ddots & \\vdots \\\\\n",
    "    %b_{(n-1)1} & b_{(n-1)2} & b_{(n-1)3} & \\dots  & 1\n",
    "\\end{bmatrix}\n",
    "$$\n",
    "\n",
    "No pivotamento parcial sempre colocamos o maior elemento na diagonal o que resulta em $|l_{ij}| \\leq 1$, logo $\\|L\\|_\\infty \\leq n$.\n",
    "\n",
    "Utilizando a norma infinito para análise do erro e voltando a expressão do erro inicial obtemos:\n",
    "$$\n",
    "\\|E\\|_\\infty \\leq  nu (3\\|A\\|_\\infty + 5 \\underbrace{n}_{\\|L\\|_\\infty} \\|\\hat{U}\\|_\\infty)\n",
    "$$\n",
    "pois $\\|P\\|_\\infty = 1$.\n",
    "\n",
    "---\n",
    "\n",
    "Obs: Pela notação \"antiga\" $E = \\delta A$.\n",
    "\n",
    "Utilizando a expressão do erro relativo da solução $x$ temos:\n",
    "$$\n",
    "\\frac{\\|\\delta x \\|}{\\|x\\|} \\leq \\text{cond}(A) \\left( \\frac{\\|\\delta A\\|}{\\|A\\|} + \\frac{\\|\\delta b\\|}{\\|b\\|} \\right)\n",
    "$$\n",
    "\n",
    "Vamos utilizar essa expressão para tentar obter um limitante à expressão de $\\|E\\|$ utilizando uma constante e a norma de $A$ ($\\|E\\|_\\infty \\leq \\text{cte} \\|A\\|_\\infty$).\n",
    "\n",
    "$\\delta A = E$ é dependente de $LU$, e $LU$ é dependente de $A$, isso está circular. Se conseguirmos limitar $\\delta A = E$ em termos de $A$ resolvemos o problema. \n",
    "\n",
    "Para isso utilizaremos uma quantidade definida a seguir:\n"
   ]
  },
  {
   "cell_type": "markdown",
   "metadata": {},
   "source": [
    "**Definição:** Growth factor (fator de crescimento) $\\displaystyle \\rho = \\max_{i,j,k} \\frac{|\\hat{a}_{ij} ^{(k)}|}{\\|A\\|_\\infty}$\n",
    "\n",
    "Essa quantidade \"pega\" o maior elemento para cada elemento de $A^{(k)}$. $A^{(k)}$ representa a matriz durante o processo de eleminação, vide abaixo:\n",
    "\n",
    "$$\n",
    "\\underbrace{\\begin{bmatrix}\n",
    "    a_{11} & a_{12} & a_{13} & \\dots  & a_{1n} \\\\\n",
    "    a_{21} & a_{22} & a_{23} & \\dots & a_{2n} \\\\\n",
    "    a_{31} & a_{32} & a_{33} & \\dots & a_{3n} \\\\\n",
    "    \\vdots & \\vdots & \\vdots & \\ddots & \\vdots \\\\\n",
    "\\end{bmatrix}}_{A^{(0)}} \\; \\Rightarrow \\;\n",
    "\\underbrace{\\begin{bmatrix}\n",
    "    \\hat{a}_{11}^{(1)} & \\hat{a}_{12}^{(1)} & \\hat{a}_{13}^{(1)} & \\dots  & \\hat{a}_{1n}^{(1)} \\\\\n",
    "    0 & \\hat{a}_{22}^{(1)} & \\hat{a}_{23}^{(1)} & \\dots & \\hat{a}_{2n}^{(1)} \\\\\n",
    "    0 & \\hat{a}_{32}^{(1)} & \\hat{a}_{33}^{(1)} & \\dots & \\hat{a}_{3n}^{(1)} \\\\\n",
    "    \\vdots & \\vdots & \\vdots & \\ddots & \\vdots \\\\\n",
    "\\end{bmatrix}}_{A^{(1)}} \\; \\Rightarrow \\;\n",
    "\\underbrace{\\begin{bmatrix}\n",
    "    \\hat{a}_{11}^{(2)} & \\hat{a}_{12}^{(2)} & \\hat{a}_{13}^{(2)} & \\dots  & \\hat{a}_{1n}^{(2)} \\\\\n",
    "    0 & 0 & \\hat{a}_{23}^{(2)} & \\dots & \\hat{a}_{2n}^{(2)} \\\\\n",
    "    0 & 0 & \\hat{a}_{33}^{(2)} & \\dots & \\hat{a}_{3n}^{(2)} \\\\\n",
    "    \\vdots & \\vdots & \\vdots & \\ddots & \\vdots \\\\\n",
    "\\end{bmatrix}}_{A^{(2)}} \\; \\dots \\;\n",
    "$$\n",
    "\n",
    "O $\\rho$ será usado no lugar de $\\|U\\|\\infty$\n",
    "\n",
    "$\\displaystyle \\rho = \\max_{i,j,k} \\frac{|\\hat{a}_{ij} ^{(k)}|}{\\|A\\|_\\infty} \\geq  \\frac{ \\overbrace{\\max_{i,j} |\\hat{u}_{ij}|}^{\\alpha} }{\\|A\\|_\\infty}$, isso implica $\\|U\\|_\\infty \\leq \\rho \\text{ cte } \\|A\\|_\\infty$\n",
    "\n",
    "Isso acontece pois como uso na definição de $\\rho$ o máximo sobre $k$ isso acaba incluindo $U$ já que a última iteração de $A^{(k)}$ é $U$. Agora para encontrar a constante temos:\n",
    "\n",
    "$$\n",
    "\\|\\hat{U}\\|_\\infty = \\max_{j} \\sum_{i=1}^n |\\hat{u}_{ij}| \\leq \\max_j \\sum_{i=1}^n \\alpha = n \\alpha = n \\max_{i,j} |\\hat{u}_{ij} \\implies \\|\\hat{U}\\|_\\infty \\leq n \\max_{i,j} |\\hat{u}_{ij}| \\\\\n",
    "\\text{onde } \\alpha = \\max_{i,j} |\\hat{u}_{ij}| \\text{ da inequação anterior de } \\rho \\\\\n",
    "\\text{substutindo na inequação de } \\rho \\text{ obtemos:}\\\\\n",
    "\\rho \\geq \\frac{\\| \\hat{U} \\|_\\infty }{n \\|A\\|_\\infty} \\implies \\| \\hat{U} \\|_\\infty \\leq \\rho n \\|A\\|_\\infty\n",
    "$$\n",
    "\n",
    "Como queríamos temos agora um limitante da norma de $U$ em função de constantes e da norma de $A$\n",
    "\n",
    "Substituindo na inqueção de $\\|E\\|_\\infty$ obtemos:\n",
    "$$\n",
    "\\begin{array}{}\n",
    "\\|E\\|_\\infty & \\leq  nu (3\\|A\\|_\\infty + 5 n \\|\\hat{U}\\|_\\infty) \\\\\n",
    "& \\leq nu (3\\|A\\|_\\infty + 5 n \\underbrace{\\rho n \\|A\\|_\\infty}_{\\|\\hat{U}\\|_\\infty}) \\\\\n",
    "& \\leq 3nu\\|A\\|_\\infty + \\underbrace{5 n^3u \\rho \\|A\\|_\\infty}{8 n^3u \\rho \\|A\\|_\\infty -3 n^3u \\rho \\|A\\|_\\infty} \\\\\n",
    "& \\leq 3nu\\|A\\|_\\infty + 8 n^3u \\rho \\|A\\|_\\infty -3 n^3u \\rho \\|A\\|_\\infty \\\\\n",
    "& \\leq 8 n^3u \\rho \\|A\\|_\\infty + ( 3nu\\|A\\|_\\infty -3 n^3u \\rho \\|A\\|_\\infty) \\\\\n",
    "& \\leq 8 n^3u \\rho \\|A\\|_\\infty +  3nu( 1- n^2 \\rho )\\|A\\|_\\infty \\\\\n",
    "& \\leq 8 \\rho n^3 u \\|A\\|_\\infty \\\\\n",
    "\\end{array}\n",
    "$$\n",
    "Esse desenvolvimento também está demonstrado nos livros do Golub (pgs 115-116) e Quarteroni (pg 103-104) mas sem tanto detalhe. No livro do Quarteroni ele diz que essa última passagem é obtida por um resultado de Wilkinson mas não dá referências sobre qual é esse resultado.\n",
    "\n",
    "\n",
    "A decomposição LU é da ordem $O(2/3 n^3)$ então o limitante do erro encontrado está na mesma ordem de grandeza o que significa que está compatível, mas essa análise depende de $\\rho$ e se esse termo depender de $n$ então temos problema a matriz do exemplo abaixo exemplifica esse caso.\n",
    "\n",
    "$$\n",
    "\\underbrace{\\begin{bmatrix}\n",
    "    1 & 0 & 0 & \\dots  & 1 \\\\\n",
    "    -1 & 1 & 0 & \\dots & 1 \\\\\n",
    "    -1 & -1 & 1 & \\dots & 1 \\\\\n",
    "    \\vdots & \\vdots & \\vdots & \\ddots & \\vdots \\\\\n",
    "\\end{bmatrix}}_{A^{(0)}} \\; \\Rightarrow \\;\n",
    "\\underbrace{\\begin{bmatrix}\n",
    "    1 & 0 & 0 & \\dots  & 1 \\\\\n",
    "    0 & 1 & 0 & \\dots & 2 \\\\\n",
    "    0 & -1 & 1 & \\dots & 2 \\\\\n",
    "    \\vdots & \\vdots & \\vdots & \\ddots & \\vdots \\\\\n",
    "\\end{bmatrix}}_{A^{(1)}} \\; \\Rightarrow \\;\n",
    "\\underbrace{\\begin{bmatrix}\n",
    "    1 & 0 & 0 & \\dots  & 1 \\\\\n",
    "    0 & 1 & 0 & \\dots & 2 \\\\\n",
    "    0 & 0 & 1 & \\dots & 4 \\\\\n",
    "    \\vdots & \\vdots & \\vdots & \\ddots & \\vdots \\\\\n",
    "\\end{bmatrix}}_{A^{(2)}} \\; \\dots \\;\n",
    "\\underbrace{\\begin{bmatrix}\n",
    "    1 & 0 & 0 & \\dots  & 1 \\\\\n",
    "    0 & 1 & 0 & \\dots & 2 \\\\\n",
    "    0 & 0 & 1 & \\dots & 4 \\\\\n",
    "    \\vdots & \\vdots & \\vdots & \\ddots & \\vdots \\\\\n",
    "    0 & 0 & 0 & \\dots & 2^{(n-1)} \\\\\n",
    "\\end{bmatrix}}_{A^{(n-1)}}\n",
    "$$\n",
    "\n",
    "$$\n",
    "\\|A\\|_\\infty = n \\implies \\rho = \\frac{2^{n-1}}{n} \\implies \\|E\\|_\\infty \\leq 8n^3u \\overbrace{\\frac{2^{n-1}}{n}}^{\\rho} \\overbrace{n}^{\\|A\\|_\\infty}\n",
    "$$\n",
    "\n",
    "Utilizando a expressão para $\\displaystyle \\frac{\\|\\delta x\\|}{\\|x\\|}$ desconsiderando $\\displaystyle \\frac{\\|\\delta b\\|}{\\|b\\|}$, obtemos:\n",
    "\n",
    "$$\n",
    "\\begin{array}{}\n",
    "\\frac{\\|\\delta x\\|_\\infty}{\\|x\\|_\\infty} & \\leq K(A) \\left(\\frac{\\overbrace{\\|\\delta A\\|_\\infty}^{\\delta A = E}}{\\|A\\|_\\infty} \\right)\\\\\n",
    "\\frac{\\|\\delta x\\|_\\infty}{\\|x\\|_\\infty} & \\leq K(A) (8n^3u \\frac{2^{n-1}}{n} \\frac{n}{n})\\\\\n",
    " & \\leq K(A) (8n^2u 2^{n-1})\n",
    "\\end{array}\n",
    "$$\n",
    "\n",
    "O que implica que mesmo para matrizes $A$ bem condicionadas o erro pode ser grande. Embora esse possível erro grande na prática matrizes que exibem esse $\\rho$ são altamente improváveis, e o valor usual de $\\rho$ fica em torno de 10.\n",
    "\n",
    "Com isso encerramos os métodos diretos\n",
    "\n",
    "---\n"
   ]
  },
  {
   "cell_type": "markdown",
   "metadata": {},
   "source": []
  },
  {
   "cell_type": "markdown",
   "metadata": {},
   "source": []
  },
  {
   "cell_type": "markdown",
   "metadata": {},
   "source": []
  },
  {
   "cell_type": "markdown",
   "metadata": {},
   "source": []
  },
  {
   "cell_type": "markdown",
   "metadata": {},
   "source": []
  },
  {
   "cell_type": "markdown",
   "metadata": {},
   "source": []
  },
  {
   "cell_type": "markdown",
   "metadata": {},
   "source": []
  },
  {
   "cell_type": "markdown",
   "metadata": {},
   "source": []
  },
  {
   "cell_type": "markdown",
   "metadata": {},
   "source": []
  },
  {
   "cell_type": "markdown",
   "metadata": {},
   "source": []
  }
 ],
 "metadata": {
  "kernelspec": {
   "display_name": "Python 3",
   "language": "python",
   "name": "python3"
  },
  "language_info": {
   "codemirror_mode": {
    "name": "ipython",
    "version": 3
   },
   "file_extension": ".py",
   "mimetype": "text/x-python",
   "name": "python",
   "nbconvert_exporter": "python",
   "pygments_lexer": "ipython3",
   "version": "3.8.1"
  }
 },
 "nbformat": 4,
 "nbformat_minor": 2
}
