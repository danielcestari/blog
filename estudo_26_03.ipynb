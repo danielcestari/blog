{
 "cells": [
  {
   "cell_type": "markdown",
   "metadata": {},
   "source": [
    "### Estudo\n",
    "\n",
    "O post de hoje foi quando fiz uma coleção de anotações sobre o curso online do Prof. Pavel Grenfeld disponível no canal MathTheBeatiful do youtube ( https://www.youtube.com/channel/UCr22xikWUK2yUW4YxOKXclQ ). \n",
    "\n",
    "É apenas uma coleção de \"provas\" e ideias sobre algebra linear.\n",
    "\n",
    "Apenas registrando um pensamento : encontrar autovalor pode ser visto como uma perturbação na matriz para torná-la singular.\n",
    "\n",
    "#### Vídeo 16C1, sobre o traço ($Tr(A) = \\sum \\lambda_i$) e determinante da matriz ($det(A) = \\prod \\lambda_i$)\n",
    "\n",
    "$P(\\lambda) = | A - \\lambda I | = \\begin{vmatrix}\n",
    "    a_{11} - \\lambda & a_{12} & \\dots  & a_{1n} \\\\\n",
    "    a_{21} & a_{22} - \\lambda & \\dots  & a_{2n} \\\\\n",
    "    \\vdots & \\vdots & \\ddots & \\vdots \\\\\n",
    "    a_{n1} & a_{n2} & \\dots  & a_{nn} - \\lambda\n",
    "\\end{vmatrix} = \\begin{array}{c} n! \\text{ termos na expressão do determinante } \\\\ (a_{11}-\\lambda)(a_{22}-\\lambda)\\dots(a_{nn}-\\lambda) + \\dots \\\\ \\, \\end{array}$\n",
    "\n",
    "$ = \\pm \\lambda^n \\mp (a_{11}+ \\dots a_{nn})\\lambda^{n-1} + \\dots + C, \\text{ (fórmula de um polinômio de grau n) } \\\\ \n",
    "= (\\lambda_1 - \\lambda) (\\lambda_2 - \\lambda) \\dots (\\lambda_n - \\lambda), \\text{ (fórmula do polinômio fatorando suas raízes) }$\n",
    "\n",
    "Pode-se perceber que $P(\\lambda=0)=C=(\\lambda_1 - 0) (\\lambda_2 - 0) \\dots (\\lambda_n - 0) = |A- 0I| = det(A)$\n",
    "\n",
    "A expressão para o traço pode ser obtida fazendo a expensão do polinômio fatorado pela raízes ($ (\\lambda_1 - \\lambda) (\\lambda_2 - \\lambda) \\dots (\\lambda_n - \\lambda)$) e igualando à expressão do polinômio em função das entradas da matriz ($a_{ij}$). \n",
    "No caderno não fiz explicitamente, mas agora farei, ou quase, não farei todo o processo mas parte dele. Pode-se perceber que expandindo o termo de grau $\\lambda^{n-1}$ das raízes fatoradas teremos n termos da seguninte forma $\\lambda_i \\times \\lambda^{n-1}$.\n",
    "\n",
    "Para visualizar isso faça o seguinte, para obter da expressão fatorada termos com potência n-1, é preciso de cada termo $(\\lambda_i - \\lambda)$, \"segurar\" o termo $\\lambda_i$ e multiplicar os demais pelo $\\lambda$ dos outros.\n",
    "\n",
    "Por exemplo:\n",
    "$$\n",
    "(\\lambda_1 - \\lambda) (\\lambda_2 - \\lambda) \\dots (\\lambda_n - \\lambda) \\\\\n",
    "= [\\lambda_1 \\times (\\lambda_2 - \\lambda) \\dots (\\lambda_n - \\lambda) ] - [\\lambda \\times  (\\lambda_2 - \\lambda) \\dots (\\lambda_n - \\lambda) ]\n",
    "$$\n",
    "O termo à esquerda produzirá os termos de interesse, pois temos $\\lambda_1 \\times \\lambda^{n-1}$ mais um monte de termos com sinais alternados, e o termo à esquerda também um monte de termos com sinais alternados, no final esse monte de termos com sinal alternado concelarão os coeficientes com potência n-1.\n",
    "\n",
    "Fazendo o mesmo processo para os próximos termos ($(\\lambda_2 - \\lambda)$) obteremos os outros termos $\\lambda_2 \\times \\lambda^{n-1}$, $\\lambda_3 \\times \\lambda^{n-1}$, ... $\\lambda_n \\times \\lambda^{n-1}$. Com isso obtemos que o coeficiente que multiplica o termo com potência n-1 é a soma dos autovalores, e se igualarmos os polinômios, veremos que esse mesmo coeficiente é o traço da matriz pelo polinômio dado com os coeficientes da matriz.\n",
    "\n",
    "Outra maneira de verificar a relação que acabou de me ocorrer é lembrar das relações, ou fórmula, de Newton-Girard (https://en.wikipedia.org/wiki/Newton%27s_identities). São aquelas relações que usamos no ensino médio para encontrar raízes de polinômios de segundo grau, em que o coeficiente do termo em $x$ é a soma das raízes, e o termo independente é o produto das raízes. Exemplo: $x^2 + ax +b$, supondo raízes $x_1,x_2$, $a = x_1 + x_2$ e $b = x_1 x_2$. Essa relação pode ser extendida para polinômios de grau maior que dois, de qualquer forma estamos interessados no termo de grau n-1 e no termo independente, e em ambos os casos, a fórmula é idêntica à fórmula para o polinômio de segundo grau.\n",
    "\n",
    "---\n",
    "\n",
    "#### Matrizes defectivas\n",
    "\n",
    "Podemos pensar em termos de transformação como um ponto de cela (?) em relação à matrizes defectivas. Essa propriedade também não é robusta à perturbações, ou seja, uma perturbação pode fazer com que uma matriz defectiva deixa de ser.\n",
    "Essas matrizes não possuem um conjunto completo de autovetores, ou seja, sua forma de Jordan terá blocos com subdiagonal de 1's.\n",
    "\n",
    "---\n",
    "\n",
    "#### Transformação de matrizes e seus efeitos nos autvalores e autovetores\n",
    "\n",
    "**Potenciação**\n",
    "Tendo $Av=\\lambda v$, podemos modificar $A$ de modo que $A^2 v = \\lambda^2 v$ e $A^{-1} v = \\displaystyle \\frac{1}{\\lambda} v$. Ou seja, essas modificações também alteram os autovalores, mas os autovetores são mantidos. \n",
    "\n",
    "**Transformações de similaridade**\n",
    "\n",
    "Dado $A v = \\lambda v$\n",
    "\n",
    "$$\n",
    "B = X A X^{-1} \\\\\n",
    "u = Xv \\implies XA(X^{-1}u) = XAv = X \\lambda v = \\lambda X v = \\lambda u \\\\\n",
    "\\text{ou seja} \\\\\n",
    "Bu = \\lambda u\n",
    "$$\n",
    "\n",
    "Transformações de similaridade alteram os autoveres mas mantém os autovalores\n",
    "\n",
    "---\n",
    "\n",
    "#### Dicas de como achar autovalores e autovetores rapidamente\n",
    "\n",
    "- Se as linhas de uma matriz somam um mesmo valor, então esse valor é um autovalor e seu autovetor associado é $[\\begin{array}{c} 1 & 1 & \\dots & 1 & 1 \\end{array}]^t$. Esta dica foi mostrada no vídeo 17C, pelo menos foi onde eu anotei no meu caderno que ele comenta sobre ela, mas em outros videos o Pavel também fala dela.\n",
    "    Usando a mesma regra na transposta é possível tentar achar outro autovalor, já que a transposta não altera os autovalores da matriz.\n",
    "    \n",
    "    Ex: $$\n",
    "    \\begin{bmatrix}\n",
    "    6 & 2 & 1 \\\\\n",
    "    5 & 2 & 2 \\\\\n",
    "    7 & 3 & -1 \n",
    "    \\end{bmatrix}, \\\\\n",
    "    \\text{todas as linhas somam 9, logo } \\lambda_1 = 9, v_1 = \\begin{bmatrix} 1 \\\\ 1 \\\\ 1 \\end{bmatrix}\n",
    "    $$\n",
    "    Abaixo temos os autovalores e autovetores calculados para essa matriz para comparação:\n"
   ]
  },
  {
   "cell_type": "code",
   "execution_count": 2,
   "metadata": {},
   "outputs": [
    {
     "data": {
      "text/plain": [
       "(array([ 9.        ,  0.41421356, -2.41421356]),\n",
       " array([[-0.57735027, -0.35900838, -0.01398876],\n",
       "        [-0.57735027,  0.91775077, -0.39946799],\n",
       "        [-0.57735027,  0.16984258,  0.91664041]]))"
      ]
     },
     "execution_count": 2,
     "metadata": {},
     "output_type": "execute_result"
    }
   ],
   "source": [
    "import numpy as np\n",
    "A = np.array([[6,2,1], [5,2,2], [7,3,-1]])\n",
    "np.linalg.eig(A)"
   ]
  },
  {
   "cell_type": "markdown",
   "metadata": {},
   "source": [
    "- Se uma coluna tiver apenas uma entrada não nula e for na diagonal, então esse é um autovalor, e seu autovetor associado é $[\\begin{array}{c} 0 & 0 & \\dots & 1 & \\dots & 0 & 0 \\end{array}]^t$, 1 na mesma posição da entrada diagonal não nula.\n",
    "- Se o *nullspace* de uma matriz for não trivial, ou seja, o núcleo da transformação tem mais elementos além do vetor nulo, significa que essa matriz tem como autovalor o zero.\n",
    "\n",
    "---\n",
    "#### Dicas genéricas\n",
    "- Como operações nas linhas ão alteram o *nullspace* podemos usar alguns passos da eliminação da Gauss para \"enxergar\" o *nullspace*. Se com algumas operações já percebermos que as primeiras duas colunas são LI e as demais são LD, já temos uma indicação dos autovetores associados ao autovalor nulo.\n",
    "- Para construir uma matriz com espectro especificado utilizados transformações de similaridade.\n",
    "$$\n",
    "A = X D X^{-1}\n",
    "$$\n",
    "D é uma matriz diagonal com os autovalores, e os autovetores são dados por $v = Xu$, onde v será o autovalor na base escolhida, se utilizarmos a base canônica ($u=e_i$), então os autovetores serão as colunas da matriz X.\n",
    "- No video 18e ele mostra uma aplicação interessante de como determinar uma fórmula fechada para o n-ésimo termo da sequência de Fibonacci utilizando Algebra Linear.\n",
    "\n",
    "    Temos a sequência $0, 1, 1, 2, 3, 5, 8, \\dots$, podemos montar o seguinte sistema:\n",
    "$$\\left\\{ \\begin{array}{}\n",
    "a_n = a_n \\\\\n",
    "a_{n+1} = a_n + a_{n-1}\n",
    "\\end{array}\\right.\n",
    "$$\n",
    "Escrevendo na forma matricial temos:\n",
    "$$\n",
    "\\begin{bmatrix}\n",
    "a_n \\\\\n",
    "a_{n+1} \n",
    "\\end{bmatrix} =\n",
    "\\begin{bmatrix}\n",
    "0 & 1 \\\\\n",
    "1 & 1 \n",
    "\\end{bmatrix}\n",
    "\\begin{bmatrix}\n",
    "a_{n-1} \\\\\n",
    "a_n\n",
    "\\end{bmatrix}\n",
    "$$\n",
    "Essa matriz pode ser iterada até chegar no $a_0$ e $a_1$.\n",
    "$$\n",
    "\\begin{bmatrix}\n",
    "a_n \\\\\n",
    "a_{n+1} \n",
    "\\end{bmatrix} =\n",
    "\\begin{bmatrix}\n",
    "0 & 1 \\\\\n",
    "1 & 1 \n",
    "\\end{bmatrix}^n\n",
    "\\begin{bmatrix}\n",
    "0 \\\\\n",
    "1\n",
    "\\end{bmatrix}\n",
    "$$\n",
    "Logo, fazendo a decomposição espectral dessa matriz podemos determinar $a_n$ em função de seus autovalores. Pois assim fica fácil fazer a potenciação da matriz, $A^n = XD^nX^{-1}$. Como pode ser visto abaixo, os autovalores têm relação com a relação aurea $\\Bigg(\\varphi = \\displaystyle \\frac{1+ \\sqrt(5)}{2}\\Bigg) = 1.6180\\dots$, na realidade os autovalores são $\\varphi$ e $1-\\varphi$"
   ]
  },
  {
   "cell_type": "code",
   "execution_count": 3,
   "metadata": {},
   "outputs": [
    {
     "data": {
      "text/plain": [
       "(array([-0.61803399,  1.61803399]), array([[-0.85065081, -0.52573111],\n",
       "        [ 0.52573111, -0.85065081]]))"
      ]
     },
     "execution_count": 3,
     "metadata": {},
     "output_type": "execute_result"
    }
   ],
   "source": [
    "import numpy as np\n",
    "A = np.array([[0,1], [1,1]])\n",
    "np.linalg.eig(A)"
   ]
  },
  {
   "cell_type": "markdown",
   "metadata": {},
   "source": []
  },
  {
   "cell_type": "markdown",
   "metadata": {},
   "source": []
  },
  {
   "cell_type": "markdown",
   "metadata": {},
   "source": []
  },
  {
   "cell_type": "markdown",
   "metadata": {},
   "source": []
  },
  {
   "cell_type": "markdown",
   "metadata": {},
   "source": []
  },
  {
   "cell_type": "markdown",
   "metadata": {},
   "source": []
  },
  {
   "cell_type": "markdown",
   "metadata": {},
   "source": []
  },
  {
   "cell_type": "markdown",
   "metadata": {},
   "source": []
  },
  {
   "cell_type": "markdown",
   "metadata": {},
   "source": []
  },
  {
   "cell_type": "markdown",
   "metadata": {},
   "source": []
  },
  {
   "cell_type": "markdown",
   "metadata": {},
   "source": []
  },
  {
   "cell_type": "markdown",
   "metadata": {},
   "source": []
  },
  {
   "cell_type": "markdown",
   "metadata": {},
   "source": []
  }
 ],
 "metadata": {
  "kernelspec": {
   "display_name": "Python 3",
   "language": "python",
   "name": "python3"
  },
  "language_info": {
   "codemirror_mode": {
    "name": "ipython",
    "version": 3
   },
   "file_extension": ".py",
   "mimetype": "text/x-python",
   "name": "python",
   "nbconvert_exporter": "python",
   "pygments_lexer": "ipython3",
   "version": "3.6.5"
  }
 },
 "nbformat": 4,
 "nbformat_minor": 2
}
