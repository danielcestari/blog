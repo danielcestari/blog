{
 "cells": [
  {
   "cell_type": "markdown",
   "metadata": {},
   "source": [
    "### Estudo\n",
    "\n",
    "O post de hoje foi quando fiz uma coleção de anotações sobre o curso online do Prof. Pavel Grenfeld disponível no canal MathTheBeatiful do youtube (https://www.youtube.com/channel/UCr22xikWUK2yUW4YxOKXclQ). \n",
    "\n",
    "É apenas uma coleção de \"provas\" e ideias sobre algebra linear.\n",
    "\n",
    "Apenas registrando um pensamento : encontrar autovalor pode ser visto como uma perturbação na matriz para torná-la singular.\n",
    "\n",
    "#### Vídeo 16C1, sobre o traço ($Tr(A) = \\sum \\lambda_i$) e determinante da matriz ($det(A) = \\prod \\lambda_i$)\n",
    "\n",
    "$P(\\lambda) = | A - \\lambda I | = \\begin{vmatrix}\n",
    "    a_{11} - \\lambda & a_{12} & \\dots  & a_{1n} \\\\\n",
    "    a_{21} & a_{22} - \\lambda & \\dots  & a_{2n} \\\\\n",
    "    \\vdots & \\vdots & \\ddots & \\vdots \\\\\n",
    "    a_{n1} & a_{n2} & \\dots  & a_{nn} - \\lambda\n",
    "\\end{vmatrix} = \\begin{array}{c} n! \\text{ termos na expressão do determinante } \\\\ (a_{11}-\\lambda)(a_{22}-\\lambda)\\dots(a_{nn}-\\lambda) + \\dots \\\\ \\, \\end{array}$\n",
    "\n",
    "$ = \\pm \\lambda^n \\mp (a_{11}+ \\dots a_{nn})\\lambda^{n-1} + \\dots + C, \\text{ (fórmula de um polinômio de grau n) } \\\\ \n",
    "= (\\lambda_1 - \\lambda) (\\lambda_2 - \\lambda) \\dots (\\lambda_n - \\lambda), \\text{ (fórmula do polinômio fatorando suas raízes) }$\n",
    "\n",
    "Pode-se perceber que $P(\\lambda=0)=C=(\\lambda_1 - 0) (\\lambda_2 - 0) \\dots (\\lambda_n - 0) = |A- 0I| = det(A)$\n",
    "\n",
    "A expressão para o traço pode ser obtida fazendo a expensão do polinômio fatorado pela raízes ($ (\\lambda_1 - \\lambda) (\\lambda_2 - \\lambda) \\dots (\\lambda_n - \\lambda)$) e igualando à expressão do polinômio em função das entradas da matriz ($a_{ij}$). \n",
    "No caderno não fiz explicitamente, mas agora farei, ou quase, não farei todo o processo mas parte dele. Pode-se perceber que expandindo o termo de grau $\\lambda^{n-1}$ das raízes fatoradas teremos n termos da seguninte forma $\\lambda_i \\times \\lambda^{n-1}$.\n",
    "\n",
    "Para visualizar isso faça o seguinte, para obter da expressão fatorada termos com potência n-1, é preciso de cada termo $(\\lambda_i - \\lambda)$, \"segurar\" o termo $\\lambda_i$ e multiplicar os demais pelo $\\lambda$ dos outros.\n",
    "\n",
    "Por exemplo:\n",
    "$$\n",
    "(\\lambda_1 - \\lambda) (\\lambda_2 - \\lambda) \\dots (\\lambda_n - \\lambda) \\\\\n",
    "= [\\lambda_1 \\times (\\lambda_2 - \\lambda) \\dots (\\lambda_n - \\lambda) ] - [\\lambda \\times  (\\lambda_2 - \\lambda) \\dots (\\lambda_n - \\lambda) ]\n",
    "$$\n",
    "O termo à esquerda produzirá os termos de interesse, pois temos $\\lambda_1 \\times \\lambda^{n-1}$ mais um monte de termos com sinais alternados, e o termo à esquerda também um monte de termos com sinais alternados, no final esse monte de termos com sinal alternado concelarão os coeficientes com potência n-1.\n",
    "\n",
    "Fazendo o mesmo processo para os próximos termos ($(\\lambda_2 - \\lambda)$) obteremos os outros termos $\\lambda_2 \\times \\lambda^{n-1}$, $\\lambda_3 \\times \\lambda^{n-1}$, ... $\\lambda_n \\times \\lambda^{n-1}$. Com isso obtemos que o coeficiente que multiplica o termo com potência n-1 é a soma dos autovalores, e se igualarmos os polinômios, veremos que esse mesmo coeficiente é o traço da matriz pelo polinômio dado com os coeficientes da matriz.\n",
    "\n",
    "Outra maneira de verificar a relação que acabou de me ocorrer é lembrar das relações, ou fórmula, de Newton-Girard (https://en.wikipedia.org/wiki/Newton%27s_identities). São aquelas relações que usamos no ensino médio para encontrar raízes de polinômios de segundo grau, em que o coeficiente do termo em $x$ é a soma das raízes, e o termo independente é o produto das raízes. Exemplo: $x^2 + ax +b$, supondo raízes $x_1,x_2$, $a = x_1 + x_2$ e $b = x_1 x_2$. Essa relação pode ser extendida para polinômios de grau maior que dois, de qualquer forma estamos interessados no termo de grau n-1 e no termo independente, e em ambos os casos, a fórmula é idêntica à fórmula para o polinômio de segundo grau.\n",
    "\n",
    "---\n",
    "\n",
    "#### Matrizes defectivas\n",
    "\n",
    "Podemos pensar em termos de transformação como um ponto de cela (?) em relação à matrizes defectivas. Essa propriedade também não é robusta à perturbações, ou seja, uma perturbação pode fazer com que uma matriz defectiva deixa de ser.\n",
    "Essas matrizes não possuem um conjunto completo de autovetores, ou seja, sua forma de Jordan terá blocos com subdiagonal de 1's.\n",
    "\n",
    "---\n",
    "\n",
    "#### Transformação de matrizes e seus efeitos nos autvalores e autovetores\n",
    "\n",
    "**Potenciação**\n",
    "Tendo $Av=\\lambda v$, podemos modificar $A$ de modo que $A^2 v = \\lambda^2 v$ e $A^{-1} v = \\displaystyle \\frac{1}{\\lambda} v$. Ou seja, essas modificações também alteram os autovalores, mas os autovetores são mantidos. \n",
    "\n",
    "**Transformações de similaridade**\n",
    "\n",
    "Dado $A v = \\lambda v$\n",
    "\n",
    "$$\n",
    "B = X A X^{-1} \\\\\n",
    "u = Xv \\implies XA(X^{-1}u) = XAv = X \\lambda v = \\lambda X v = \\lambda u \\\\\n",
    "\\text{ou seja} \\\\\n",
    "Bu = \\lambda u\n",
    "$$\n",
    "\n",
    "Transformações de similaridade alteram os autoveres mas mantém os autovalores\n"
   ]
  },
  {
   "cell_type": "markdown",
   "metadata": {},
   "source": []
  },
  {
   "cell_type": "markdown",
   "metadata": {},
   "source": []
  },
  {
   "cell_type": "markdown",
   "metadata": {},
   "source": []
  },
  {
   "cell_type": "markdown",
   "metadata": {},
   "source": []
  },
  {
   "cell_type": "markdown",
   "metadata": {},
   "source": []
  },
  {
   "cell_type": "markdown",
   "metadata": {},
   "source": []
  },
  {
   "cell_type": "markdown",
   "metadata": {},
   "source": []
  },
  {
   "cell_type": "markdown",
   "metadata": {},
   "source": []
  },
  {
   "cell_type": "markdown",
   "metadata": {},
   "source": []
  },
  {
   "cell_type": "markdown",
   "metadata": {},
   "source": []
  },
  {
   "cell_type": "markdown",
   "metadata": {},
   "source": []
  },
  {
   "cell_type": "markdown",
   "metadata": {},
   "source": []
  },
  {
   "cell_type": "markdown",
   "metadata": {},
   "source": []
  },
  {
   "cell_type": "markdown",
   "metadata": {},
   "source": []
  },
  {
   "cell_type": "markdown",
   "metadata": {},
   "source": []
  }
 ],
 "metadata": {
  "kernelspec": {
   "display_name": "Python 3",
   "language": "python",
   "name": "python3"
  },
  "language_info": {
   "codemirror_mode": {
    "name": "ipython",
    "version": 3
   },
   "file_extension": ".py",
   "mimetype": "text/x-python",
   "name": "python",
   "nbconvert_exporter": "python",
   "pygments_lexer": "ipython3",
   "version": "3.6.5"
  }
 },
 "nbformat": 4,
 "nbformat_minor": 2
}
