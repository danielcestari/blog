{
 "cells": [
  {
   "cell_type": "markdown",
   "metadata": {},
   "source": [
    "# Aula 04\n",
    "\n",
    "Continuando na análise de matriz, o último resultado da aula passada foi um teorema sobre a sequência e a séria $A^k$. Agora faremos a prova deste teorema.\n",
    "\n",
    "## Análise de matriz\n",
    "\n",
    "\n",
    "**Teorema:** Se $A_{n \\times n}$ então $\\lim_{k \\to \\infty} A^k \\to 0 \\iff \\rho(A) < 1$.\n",
    "\n",
    "Ademais, $\\displaystyle \\sum_{k=0}^\\infty A^k$ é convergente $\\iff \\rho(A) < 1$ e nesse caso \n",
    "$$ \\sum_{k=0}^\\infty A^k = (I-A)^{-1}\\\\\n",
    "\\frac{1}{1+ \\|A\\|} \\leq \\| ( I - A)^{-1} \\| \\leq \\frac{1}{1- \\|A\\|}$$\n",
    "\n",
    "Prova:\n",
    "\n",
    "Usaremos na prova o fato de ser possível criar uma norma tao perto quanto se queira do raio espectral, $\\forall \\epsilon > 0, \\; \\exists \\; \\|\\cdot\\|_\\epsilon \\text{ tal que } \\| A \\|_\\epsilon < \\rho(A) + \\epsilon$\n",
    "\n",
    "Primeiro a parte da prova ($\\Leftarrow$), como $\\rho(A) < 1$, escolhemos $\\epsilon$ tal que $\\rho(A) < 1- \\epsilon$, ou seja, $\\epsilon$ está entre $\\rho(A)$ e 1, e $1- \\epsilon$ está ainda mais próximo de $\\rho(A)$.\n",
    "\n",
    "Com esse $\\epsilon$ podemos definir uma norma $\\|\\cdot\\|_\\epsilon \\text{ tal que } \\| A \\|_\\epsilon < \\rho(A) + \\epsilon < 1$. A escolha do $\\epsilon$ foi feita dessa forma para garantir que essa norma seja menor que 1.\n",
    "\n",
    "Sabemos que $\\displaystyle \\lim_{n \\to \\infty} x^n \\to 0$ para $x \\in \\mathbb{R}$, implica que $|x|<1$.\n",
    "\n",
    "Agora voltamos à hipótese do teorema, dado que $\\rho(A) <1$ definimos a $\\epsilon$-norma como acima e $\\displaystyle \\lim_{k \\to \\infty} A^k$ converge se $\\displaystyle \\lim_{k \\to \\infty} \\|A^k\\|_\\epsilon$.\n",
    "\n",
    "$\\|A^k\\|_\\epsilon \\leq \\|A\\|_\\epsilon \\|A\\|_\\epsilon \\dots \\|A\\|_\\epsilon $, a desigualdade segue pela propriedade da submultipliatividade que toda norma induzida tem ($\\|AB\\| \\leq \\|A\\| \\|B\\|$).\n",
    "\n",
    "Logo, $\\displaystyle \\lim_{k \\to \\infty} \\|A^k\\|_\\epsilon \\to 0$ e portanto $\\displaystyle \\lim_{k \\to \\infty} A^k \\to 0$.\n",
    "\n",
    "Provamos o converso da primeira hipótese do teorema, agora vamos para o direto ($\\Rightarrow$), dado que $\\displaystyle \\lim_{k \\to \\infty} A^k \\to 0$ então $\\rho(A) < 1$.\n",
    "\n",
    "Seja $\\lambda$ um autovalor de $A$ com autovetor $v$, logo $Av = \\lambda v$, escolhemos $v$ tal que $\\|v\\|=1$.\n",
    "\n",
    "Iterando várias vezes $A$ no autovetor $v$, temos: $A^k v = \\lambda^k v$.\n",
    "\n",
    "Como $\\displaystyle  0=\\lim_{k \\to \\infty} A^k = \\lim_{k \\to \\infty} \\lambda^k v = v \\lim_{k \\to \\infty} \\lambda^k$, como $\\displaystyle  v \\neq 0, \\implies \\lim_{k \\to \\infty} \\lambda^k = 0$, logo $|\\lambda| <1 $ e como $\\lambda$ foi escolhido arbitrariamente, temos que $\\rho(A) <1$ \n",
    "\n",
    "Está provado a parte do teorema relacionado à sequência, provaremos agora a convergência da série e a estimativa dada.\n",
    "\n",
    "Também utilizaremos a $\\epsilon$-norma para esta parte.\n",
    "\n",
    "O primeiro passo para mostrar a convergência de uma série infinita é trabalhar com a série finita, soma parcial da série.\n",
    "\n",
    "$$\n",
    "S_n = \\sum_{k=1}^n A^k, \\\\\n",
    "\\|S_n\\|_\\epsilon \\leq \\sum_{k=1}^n \\|A^k\\|_\\epsilon \\leq \\sum_{k=1}^\\infty \\|A\\|_\\epsilon^k\n",
    "$$\n",
    "\n",
    "Os passos para esses desigualdades são triviais, o módulo da soma é menor que a soma dos módulos (primeira desigualdade à esquerda) que é menor que a soma dos módulos da série infinita.\n",
    "\n",
    "Com isso verificamos que a séria é limitada, pois o último termo à direita pode ser visto como a soma dos termos de uma progressão geométrica com razão $\\|A\\|_\\epsilon < 1$, logo $\\displaystyle  \\sum_{k=1}^n \\|A\\|_\\epsilon^k = \\frac{1}{1 - \\|A\\|_\\epsilon}$\n",
    "\n",
    "A série $\\|S_n\\|_\\epsilon$ é limitada independentemente de $n$, logo $S_n$ é convergente, na verdade é absolutamente convergente e uniformemente. Logo faz sentido falar que $S_n$ tende a alguma coisa, atenção à diferença de falar na convergência de $\\|S_n\\|_\\epsilon$ e $S_n$.\n",
    "\n",
    "\n",
    "Se $\\lambda$ é um autovalor de $A$, então $1-\\lambda$ é autovalor de $(I-A)$ com o mesmo autovetor. Esse é um resultado geral de álgebra linear, lembre que o polinômio característico de $A$ é dado por $P_A(\\lambda)= (\\lambda_1 - \\lambda)\\dots(\\lambda_n - \\lambda)$ TERMINAR ISSO DEPOIS\n",
    "\n",
    "Como $\\rho(A) < 1$, então $1-\\lambda$ não se anula para nenhum autovalor de $A$, logo, $(I-A)$ não tem autovalor nulo já que $1-\\lambda$ é a fórmula de seus autovalores, portanto $(I-A)$ é invertível.\n",
    "\n",
    "Tendo essa propriedade em mente faremos a seguinte manipulação:\n",
    "$$\n",
    "S_n(I-A) =\\\\\n",
    "(I + A+A^2+\\dots+ A^n)(I-A)=\\\\\n",
    "\\begin{array}{c}\n",
    "I & + A & + A^2 & + \\dots & + A^n\\\\\n",
    "  & - A & - A^2 & - \\dots & - A^n & -A^{n+1}\n",
    "\\end{array}\\\\\n",
    "I - A^{n+1}\n",
    "$$\n",
    "\n",
    "Essa manipulação de distribuir a cancelar os termos é permitida pois $S_n$ é uniformemente convergente (série telescópica).\n",
    "\n",
    "Tomando o limite da expressão:\n",
    "$$\n",
    "\\lim_{n \\to \\infty} [S_n(I-A)] = \\lim_{n \\to \\infty} (I - a^{n+1}) = \\lim_{n \\to \\infty} I - \\lim_{n \\to \\infty} A^{n+1} = I\n",
    "$$\n",
    "Ou seja, $\\displaystyle \\lim_{n \\to \\infty} [S_n(I-A)] = I$, o que significa que $S_n$ tende à inversa de (I-A).\n",
    "$$\n",
    "\\begin{array}{l}\n",
    "S_n  \\to (I-A)^{-1} \\\\\n",
    "n \\to \\infty\n",
    "\\end{array} \n",
    "$$\n",
    "\n",
    "Com isso demonstramos que $\\displaystyle \\sum_{k=0}^\\infty A^k = (I-A)^{-1}$.\n",
    "\n",
    "Falta mostrar a desigualdade à esquerda para $\\displaystyle \\frac{1}{1+ \\|A\\|} \\leq \\| ( I - A)^{-1} \\| \\leq \\frac{1}{1- \\|A\\|}$.\n",
    "\n",
    "Como $\\displaystyle (I-A)^{-1} = \\sum_{k=0}^\\infty A^k$,\n",
    "\n",
    "$$\n",
    "(I-A)(I-A)^{-1} = I\\\\\n",
    "\\text{tomando norma dos dois lados}\\\\\n",
    "\\|(I-A)(I-A)^{-1}\\| = \\|I\\| \\leq \\|(I-A)\\|\\|(I-A)^{-1}\\|\\\\\n",
    "\\text{(desigualdade triangular } \\|A-B\\| \\leq \\|A\\| + \\|B\\| \\text{)} \\\\\n",
    "1 \\leq \\|(I-A)\\|\\|(I-A)^{-1}\\| \\leq (1+ \\|A\\|) \\|(I-A)^{-1}\\| \\\\\n",
    "\\frac{1}{1 + \\|A\\|} \\leq \\|(I-A)^{-1}\\|\n",
    "$$\n",
    "\n",
    "Pronto, provamos todas as hipótese e resultados do teorema.\n",
    "\n",
    "---\n",
    "Esse teorema será bastante utilizado nas provas de convergências então é importante que os argumentos de sua prova estejam bem fixados.\n",
    "\n",
    "Terminamos a primeira parte do curso que revisa os principais teoremas, entraremos agora na parte de análise de erro.\n"
   ]
  },
  {
   "cell_type": "markdown",
   "metadata": {},
   "source": [
    "---\n",
    "\n",
    "## Análise de erro"
   ]
  },
  {
   "cell_type": "markdown",
   "metadata": {},
   "source": []
  },
  {
   "cell_type": "markdown",
   "metadata": {},
   "source": []
  },
  {
   "cell_type": "markdown",
   "metadata": {},
   "source": []
  },
  {
   "cell_type": "markdown",
   "metadata": {},
   "source": []
  },
  {
   "cell_type": "markdown",
   "metadata": {},
   "source": []
  },
  {
   "cell_type": "markdown",
   "metadata": {},
   "source": []
  },
  {
   "cell_type": "markdown",
   "metadata": {},
   "source": []
  },
  {
   "cell_type": "markdown",
   "metadata": {},
   "source": []
  },
  {
   "cell_type": "markdown",
   "metadata": {},
   "source": []
  },
  {
   "cell_type": "markdown",
   "metadata": {},
   "source": []
  },
  {
   "cell_type": "markdown",
   "metadata": {},
   "source": []
  },
  {
   "cell_type": "markdown",
   "metadata": {},
   "source": []
  },
  {
   "cell_type": "markdown",
   "metadata": {},
   "source": []
  },
  {
   "cell_type": "markdown",
   "metadata": {},
   "source": []
  },
  {
   "cell_type": "markdown",
   "metadata": {},
   "source": []
  },
  {
   "cell_type": "markdown",
   "metadata": {},
   "source": []
  },
  {
   "cell_type": "markdown",
   "metadata": {},
   "source": []
  },
  {
   "cell_type": "markdown",
   "metadata": {},
   "source": []
  },
  {
   "cell_type": "markdown",
   "metadata": {},
   "source": []
  },
  {
   "cell_type": "markdown",
   "metadata": {},
   "source": []
  },
  {
   "cell_type": "markdown",
   "metadata": {},
   "source": []
  },
  {
   "cell_type": "markdown",
   "metadata": {},
   "source": []
  }
 ],
 "metadata": {
  "kernelspec": {
   "display_name": "Python 3",
   "language": "python",
   "name": "python3"
  },
  "language_info": {
   "codemirror_mode": {
    "name": "ipython",
    "version": 3
   },
   "file_extension": ".py",
   "mimetype": "text/x-python",
   "name": "python",
   "nbconvert_exporter": "python",
   "pygments_lexer": "ipython3",
   "version": "3.6.5"
  }
 },
 "nbformat": 4,
 "nbformat_minor": 2
}
