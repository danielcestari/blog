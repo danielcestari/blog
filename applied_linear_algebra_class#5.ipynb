{
 "cells": [
  {
   "cell_type": "markdown",
   "metadata": {},
   "source": [
    "# Aula 5\n",
    "\n",
    "O professor recomendou o livro do Nick Highman (Accuracy and Stability of Numerical Algorithms) para complementar o assunto de ponto flutuante e aritimética\n",
    "\n",
    "---\n",
    "\n",
    "Recapitulando, podemos definir uma função que converte um número real em sua representação em ponto flutante:\n",
    "\n",
    "$$\n",
    "\\begin{array}{ll}\n",
    "fl :& \\mathbb{R} \\to F(\\beta,t, m, M)\\\\\n",
    " & x \\to fl(x) = round(x)\n",
    "\\end{array}\\\\\n",
    "fl(x) = (1+\\delta)x, |\\delta| \\leq 1/2 \\beta^{1-t}\n",
    "$$\n",
    "\n",
    "As operações +, -, /, *, são definidas de acordo com o padrão da IEEE.\n",
    "\n",
    "Lembre-se que na precisão simples (32 bits) 8 bits são usados para o expoente, 24 para o decimal, o sinal é dado por um bit implícito e portanto não é armazenado.\n",
    "\n",
    "Quando números são carregados nos registradores do CPU para algum cálculo, há 2 bits a mais além do disponível na arquitetura para evitar problemas durante o cálculo. Os bits de guarda e arredondamento (*Guard and Round bit*) evitam problemas quando ocorre underflow ou overflow. Com esses dois bits extra, apenas presente no CPU, é possível provar que a aritimética em ponto flutuante é compatível com a representação dos números na representação de ponto flutuante.\n",
    "Ou seja, o erro acumulado pelas operações tem a mesma limitante que a operação de conversão de um número real em ponto flutuante $fl(x)$.\n",
    "\n",
    "Esse teorema está provado no livro do Higman\n",
    "\n",
    "**Teorema:** \n",
    "$$\n",
    "fl(x \\Box y) = (1+\\delta)(x \\Box y), \\\\\n",
    "|\\delta| \\leq 1/2 \\beta ^{1-t}\\\\\n",
    "\\Box = - + / *\n",
    "$$\n",
    "\n",
    "Isso é importante pois temos um único limitante no cálculo do erro tanto para a representação quanto para as operações básicas. Com isso é mais fácil calclar a estimativa do erro de uma série de operações.\n",
    "Lembrando que a cada operações entre números em ponto flutuante, é preciso fazer a conversão novamente para ponto flutuante pois o resultado pode não estar mais na representação utilizada pelo computador. O CPU faz isso automaticamente\n",
    "\n",
    "CONFIRMAR ISSO nao teno certeza do ukltumio oaragrafi\n",
    "\n"
   ]
  },
  {
   "cell_type": "markdown",
   "metadata": {},
   "source": []
  },
  {
   "cell_type": "markdown",
   "metadata": {},
   "source": []
  },
  {
   "cell_type": "markdown",
   "metadata": {},
   "source": []
  },
  {
   "cell_type": "markdown",
   "metadata": {},
   "source": []
  },
  {
   "cell_type": "markdown",
   "metadata": {},
   "source": []
  },
  {
   "cell_type": "markdown",
   "metadata": {},
   "source": []
  },
  {
   "cell_type": "markdown",
   "metadata": {},
   "source": []
  },
  {
   "cell_type": "markdown",
   "metadata": {},
   "source": []
  },
  {
   "cell_type": "markdown",
   "metadata": {},
   "source": []
  },
  {
   "cell_type": "markdown",
   "metadata": {},
   "source": []
  },
  {
   "cell_type": "markdown",
   "metadata": {},
   "source": []
  },
  {
   "cell_type": "markdown",
   "metadata": {},
   "source": []
  }
 ],
 "metadata": {
  "kernelspec": {
   "display_name": "Python 3",
   "language": "python",
   "name": "python3"
  },
  "language_info": {
   "codemirror_mode": {
    "name": "ipython",
    "version": 3
   },
   "file_extension": ".py",
   "mimetype": "text/x-python",
   "name": "python",
   "nbconvert_exporter": "python",
   "pygments_lexer": "ipython3",
   "version": "3.6.6"
  }
 },
 "nbformat": 4,
 "nbformat_minor": 2
}
